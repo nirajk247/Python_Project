{
 "cells": [
  {
   "cell_type": "markdown",
   "metadata": {},
   "source": [
    "<p align=\"center\"><img src=\"https://github.com/insaid2018/Term-1/blob/master/Images/INSAID_Full%20Logo.png?raw=true\" width=\"260\" height=\"110\" /></p>"
   ]
  },
  {
   "cell_type": "markdown",
   "metadata": {},
   "source": [
    "\n",
    "EDA  ON CAR SALES DATA\n",
    "---\n",
    "\n",
    "<center><img src=\"https://user-images.githubusercontent.com/72008985/104846821-786abd80-5902-11eb-944a-9125bc71eaed.jpg\" align='left'><br/></center>\n"
   ]
  },
  {
   "cell_type": "markdown",
   "metadata": {},
   "source": [
    "---\n",
    "# **Table of Contents**\n",
    "---\n",
    "\n",
    "<ol>\n",
    "<li><strong>Introduction</strong></li>\n",
    "<li><strong>Problem Statement</strong></li>\n",
    "<li><strong>Installing &amp; Importing Libraries</strong>\n",
    "<ol>\n",
    "<li><strong>Installing Libraries</strong></li>\n",
    "<li><strong>Upgrading Libraries</strong></li>\n",
    "<li><strong>Importing Libraries</strong></li>\n",
    "</ol>\n",
    "</li>\n",
    "<li><strong>Data Acquisition &amp; Description</strong>\n",
    "<ol>\n",
    "<li><strong>Loading the data</strong></li>\n",
    "<li><strong>Understanding the dataset</strong></li>\n",
    "<li><strong>Data Description &amp; Observation</strong></li>\n",
    "</ol>\n",
    "</li>\n",
    "<li><strong>Data Pre-Profiling</strong></li>\n",
    "<li><strong>Data Pre-Processing</strong></li>\n",
    "<li><strong>Data Post-Profiling</strong></li>\n",
    "<li><strong>Exploratory Data Analysis&nbsp;</strong>\n",
    "<ol>\n",
    "<li><strong>Top 10 highest price selling car and their model details</strong></li>\n",
    "<li><strong>Top 10 lowest price selling car and their model details</strong></li>\n",
    "<li><strong>Which brand of cars sold the most</strong></li>\n",
    "<li><strong>Which body segment of cars sold the most?</strong></li>\n",
    "<li><strong>Bar chart of car body segment in terms of %</strong></li>\n",
    "<li><strong>Which Engine Type segment of cars sold the most?</strong></li>\n",
    "<li><strong>Which drive segment of cars sold the most?</strong></li>\n",
    "<li><strong>Which Price segment of cars sold the most?</strong></li>\n",
    "<li><strong>Body type v/s price group comparison</strong></li>\n",
    "<li><strong>Distribution of vehicles based on year of registration </strong></li>\n",
    "<li><strong>Price distribution over the year w.r.t to engType </strong></li>\n",
    "<li><strong>Most preferred body type used between 1953-2016 when compared to vehicles registered</strong></li>\n",
    "<li><strong>% of Brand wise car sales in the higher price segment?</strong></li>\n",
    "<li><strong>Which engine volume (engV) cars sold the most</strong></li>\n",
    "<li><strong>What are the factors affecting the price of cars?</strong></li>\n",
    "<li><strong>Price v/s Production year</strong></li>\n",
    "<li><strong>How does engine volume (engV) relate to the mileage of the car</strong></li>\n",
    "<li><strong>Correlation between various features of car data</strong></li>\n",
    "</ol>\n",
    "</li>\n",
    "<li><strong>Summarization</strong>\n",
    "<ol>\n",
    "<li><strong>Conclusion &amp; Actionable Insights</strong></li>\n",
    "</ol>\n",
    "</li>\n",
    "</ol>\n",
    "<p><strong>&nbsp;</strong></p>"
   ]
  },
  {
   "cell_type": "markdown",
   "metadata": {},
   "source": [
    "---\n",
    "<a name = Section1></a>\n",
    "# **1. Introduction**\n",
    "---\n",
    "\n",
    "- The used car business is currently experiencing an unprecedented boom in demand for all types of vehicles. <br/>\n",
    "<br />\n",
    "- Used car market has evolved so much so that they started scaring the car makers and made them to open showrooms for used cars to leverage the profits from there. This has enabled more trust worthy used car buying experience. <br/>\n",
    "<br />\n",
    "- **In this exploratory data analysis we are trying to analyze the used car sales data and find interesting analysis.**\n",
    "\n",
    "<p align=\"center\"><img src=\"https://visme.co/blog/wp-content/uploads/2020/06/animated-interactive-infographics-header-wide.gif\"></p>\n",
    "\n"
   ]
  },
  {
   "cell_type": "markdown",
   "metadata": {},
   "source": [
    "<a name = Section2></a>\n",
    "# **2. Problem Statement**\n",
    "---\n",
    "\n",
    "\n",
    "  - In the past few years, prices of new cars have skyrocketed, due to which most people are incapable of buying a new one.\n",
    "\n",
    "  - Customers buying a new car always looks for assurity of their money to be worthy.\n",
    "\n",
    "  - But due to the increased price of new cars, used car sales are on a global increase (Pal, Arora and Palakurthy, 2018).\n",
    "\n",
    "  - There is a need for a used car price prediction system to effectively determine the worthiness of the car using a variety of features.\n",
    "\n",
    "  - Even though there are websites that offers this service, their prediction method may not be the best.\n",
    "\n",
    "  - Besides, different models and systems may contribute on predicting power for a used car’s actual market value.\n",
    "\n",
    "  - It is important to know their actual market value while both buying and selling.\n",
    "  \n",
    "  - Cars Absolute, an American company buys and sells second hand cars.\n",
    "\n",
    "  - The company has earned its name because of sincerity in work and quality of services.\n",
    "\n",
    "  - But for past few months their sales is down for some reason and they are unable to figure it out."
   ]
  },
  {
   "cell_type": "markdown",
   "metadata": {},
   "source": [
    "---\n",
    "<a id = Section3></a>\n",
    "# **3. Installing & Importing Libraries**"
   ]
  },
  {
   "cell_type": "markdown",
   "metadata": {},
   "source": [
    "### **A. Installing Libraries**"
   ]
  },
  {
   "cell_type": "code",
   "execution_count": 1,
   "metadata": {},
   "outputs": [],
   "source": [
    "!pip install -q datascience                                 "
   ]
  },
  {
   "cell_type": "code",
   "execution_count": 2,
   "metadata": {},
   "outputs": [],
   "source": [
    "!pip install -q pandas-profiling  "
   ]
  },
  {
   "cell_type": "markdown",
   "metadata": {},
   "source": [
    "### **B. Upgrading Libraries**"
   ]
  },
  {
   "cell_type": "markdown",
   "metadata": {},
   "source": [
    "\n",
    "- **After upgrading** the libraries, you need to **restart the runtime** to make the libraries in sync.\n",
    "\n",
    "- Make sure not to execute the cell under Installing Libraries and Upgrading Libraries again after restarting the runtime"
   ]
  },
  {
   "cell_type": "markdown",
   "metadata": {},
   "source": [
    "### Upgrading pandas profiling to the latest version**"
   ]
  },
  {
   "cell_type": "code",
   "execution_count": 3,
   "metadata": {},
   "outputs": [],
   "source": [
    "!pip install -q --upgrade pandas-profiling                        "
   ]
  },
  {
   "cell_type": "markdown",
   "metadata": {},
   "source": [
    "### C. Importing Libraries"
   ]
  },
  {
   "cell_type": "code",
   "execution_count": 4,
   "metadata": {},
   "outputs": [],
   "source": [
    "#-------------------------------------------------------------------------------------------------------------------------------\n",
    "import pandas as pd                                                 # Importing package pandas (For Panel Data Analysis)\n",
    "from pandas_profiling import ProfileReport                          # Import Pandas Profiling (To generate Univariate Analysis)\n",
    "#-------------------------------------------------------------------------------------------------------------------------------\n",
    "import numpy as np                                                  # Importing package numpys (For Numerical Python)\n",
    "#-------------------------------------------------------------------------------------------------------------------------------\n",
    "import matplotlib.pyplot as plt   \n",
    "plt.style.use('seaborn-whitegrid')                  # To apply seaborn whitegrid style to the plots.\n",
    "\n",
    "# Importing pyplot interface to use matplotlib\n",
    "import seaborn as sns                                               # Importing seaborn library for interactive visualization\n",
    "%matplotlib inline\n",
    "#-------------------------------------------------------------------------------------------------------------------------------\n",
    "import scipy as sp                                                  # Importing library for scientific calculations\n",
    "#-------------------------------------------------------------------------------------------------------------------------------"
   ]
  },
  {
   "cell_type": "markdown",
   "metadata": {},
   "source": [
    "---\n",
    "<a name = Section4></a>\n",
    "# **4. Data Acquisition & Description**\n",
    "---\n",
    "\n",
    "- This section is emphasised on the accquiring the data and obtain some descriptive information out of it.\n",
    "\n",
    "- You could either scrap the data and then continue, or use a direct source of link (generally preferred in most cases).\n",
    "\n",
    "- You will be working with a direct source of link to head start your work without worrying about anything.\n",
    "\n",
    "- Before going further you must have a good idea about the features of the data set:\n",
    "\n",
    "|Id|Feature|Description|\n",
    "|:--|:--|:--|\n",
    "|01| car           | Car brand name| \n",
    "|02| model         | Available car different Variants|  \n",
    "|03| year          | purchasing Year| \n",
    "|04| body          | Body type-Hatchback, Sedan, Crossover etc|   \n",
    "|05| mileage       | car Mileage|\n",
    "|06| engV          | Engine version|\n",
    "|07| engType       | Car Fuel type - Petrol, Diesel, gas etc|\n",
    "|08| drive         | Wheel Drive Front, back|\n",
    "|09| registration  | Check if the vechile is registered|\n",
    "|10| price         | Price of Car in $|\n"
   ]
  },
  {
   "cell_type": "markdown",
   "metadata": {},
   "source": [
    "---\n",
    "<a name = Section4></a>\n",
    "# **A.  Loading the data**"
   ]
  },
  {
   "cell_type": "code",
   "execution_count": 5,
   "metadata": {},
   "outputs": [],
   "source": [
    "data_car = pd.read_csv(filepath_or_buffer = 'https://raw.githubusercontent.com/insaid2018/Term-1/master/Data/Projects/car_sales.csv', encoding='cp1252')\n"
   ]
  },
  {
   "cell_type": "markdown",
   "metadata": {},
   "source": [
    "---\n",
    "<a name = Section4></a>\n",
    "# **B.  Understanding the Dataset**"
   ]
  },
  {
   "cell_type": "code",
   "execution_count": 6,
   "metadata": {},
   "outputs": [
    {
     "data": {
      "text/html": [
       "<div>\n",
       "<style scoped>\n",
       "    .dataframe tbody tr th:only-of-type {\n",
       "        vertical-align: middle;\n",
       "    }\n",
       "\n",
       "    .dataframe tbody tr th {\n",
       "        vertical-align: top;\n",
       "    }\n",
       "\n",
       "    .dataframe thead th {\n",
       "        text-align: right;\n",
       "    }\n",
       "</style>\n",
       "<table border=\"1\" class=\"dataframe\">\n",
       "  <thead>\n",
       "    <tr style=\"text-align: right;\">\n",
       "      <th></th>\n",
       "      <th>car</th>\n",
       "      <th>price</th>\n",
       "      <th>body</th>\n",
       "      <th>mileage</th>\n",
       "      <th>engV</th>\n",
       "      <th>engType</th>\n",
       "      <th>registration</th>\n",
       "      <th>year</th>\n",
       "      <th>model</th>\n",
       "      <th>drive</th>\n",
       "    </tr>\n",
       "  </thead>\n",
       "  <tbody>\n",
       "    <tr>\n",
       "      <th>0</th>\n",
       "      <td>Ford</td>\n",
       "      <td>15500.0</td>\n",
       "      <td>crossover</td>\n",
       "      <td>68</td>\n",
       "      <td>2.5</td>\n",
       "      <td>Gas</td>\n",
       "      <td>yes</td>\n",
       "      <td>2010</td>\n",
       "      <td>Kuga</td>\n",
       "      <td>full</td>\n",
       "    </tr>\n",
       "    <tr>\n",
       "      <th>1</th>\n",
       "      <td>Mercedes-Benz</td>\n",
       "      <td>20500.0</td>\n",
       "      <td>sedan</td>\n",
       "      <td>173</td>\n",
       "      <td>1.8</td>\n",
       "      <td>Gas</td>\n",
       "      <td>yes</td>\n",
       "      <td>2011</td>\n",
       "      <td>E-Class</td>\n",
       "      <td>rear</td>\n",
       "    </tr>\n",
       "    <tr>\n",
       "      <th>2</th>\n",
       "      <td>Mercedes-Benz</td>\n",
       "      <td>35000.0</td>\n",
       "      <td>other</td>\n",
       "      <td>135</td>\n",
       "      <td>5.5</td>\n",
       "      <td>Petrol</td>\n",
       "      <td>yes</td>\n",
       "      <td>2008</td>\n",
       "      <td>CL 550</td>\n",
       "      <td>rear</td>\n",
       "    </tr>\n",
       "    <tr>\n",
       "      <th>3</th>\n",
       "      <td>Mercedes-Benz</td>\n",
       "      <td>17800.0</td>\n",
       "      <td>van</td>\n",
       "      <td>162</td>\n",
       "      <td>1.8</td>\n",
       "      <td>Diesel</td>\n",
       "      <td>yes</td>\n",
       "      <td>2012</td>\n",
       "      <td>B 180</td>\n",
       "      <td>front</td>\n",
       "    </tr>\n",
       "    <tr>\n",
       "      <th>4</th>\n",
       "      <td>Mercedes-Benz</td>\n",
       "      <td>33000.0</td>\n",
       "      <td>vagon</td>\n",
       "      <td>91</td>\n",
       "      <td>NaN</td>\n",
       "      <td>Other</td>\n",
       "      <td>yes</td>\n",
       "      <td>2013</td>\n",
       "      <td>E-Class</td>\n",
       "      <td>NaN</td>\n",
       "    </tr>\n",
       "  </tbody>\n",
       "</table>\n",
       "</div>"
      ],
      "text/plain": [
       "             car    price       body  mileage  engV engType registration  \\\n",
       "0           Ford  15500.0  crossover       68   2.5     Gas          yes   \n",
       "1  Mercedes-Benz  20500.0      sedan      173   1.8     Gas          yes   \n",
       "2  Mercedes-Benz  35000.0      other      135   5.5  Petrol          yes   \n",
       "3  Mercedes-Benz  17800.0        van      162   1.8  Diesel          yes   \n",
       "4  Mercedes-Benz  33000.0      vagon       91   NaN   Other          yes   \n",
       "\n",
       "   year    model  drive  \n",
       "0  2010     Kuga   full  \n",
       "1  2011  E-Class   rear  \n",
       "2  2008   CL 550   rear  \n",
       "3  2012    B 180  front  \n",
       "4  2013  E-Class    NaN  "
      ]
     },
     "execution_count": 6,
     "metadata": {},
     "output_type": "execute_result"
    }
   ],
   "source": [
    "data_car.head()         # this is used to return top n (5 by default) rows of a data frame or series."
   ]
  },
  {
   "cell_type": "code",
   "execution_count": 7,
   "metadata": {},
   "outputs": [
    {
     "data": {
      "text/html": [
       "<div>\n",
       "<style scoped>\n",
       "    .dataframe tbody tr th:only-of-type {\n",
       "        vertical-align: middle;\n",
       "    }\n",
       "\n",
       "    .dataframe tbody tr th {\n",
       "        vertical-align: top;\n",
       "    }\n",
       "\n",
       "    .dataframe thead th {\n",
       "        text-align: right;\n",
       "    }\n",
       "</style>\n",
       "<table border=\"1\" class=\"dataframe\">\n",
       "  <thead>\n",
       "    <tr style=\"text-align: right;\">\n",
       "      <th></th>\n",
       "      <th>car</th>\n",
       "      <th>price</th>\n",
       "      <th>body</th>\n",
       "      <th>mileage</th>\n",
       "      <th>engV</th>\n",
       "      <th>engType</th>\n",
       "      <th>registration</th>\n",
       "      <th>year</th>\n",
       "      <th>model</th>\n",
       "      <th>drive</th>\n",
       "    </tr>\n",
       "  </thead>\n",
       "  <tbody>\n",
       "    <tr>\n",
       "      <th>9571</th>\n",
       "      <td>Hyundai</td>\n",
       "      <td>14500.0</td>\n",
       "      <td>crossover</td>\n",
       "      <td>140</td>\n",
       "      <td>2.0</td>\n",
       "      <td>Gas</td>\n",
       "      <td>yes</td>\n",
       "      <td>2011</td>\n",
       "      <td>Tucson</td>\n",
       "      <td>front</td>\n",
       "    </tr>\n",
       "    <tr>\n",
       "      <th>9572</th>\n",
       "      <td>Volkswagen</td>\n",
       "      <td>2200.0</td>\n",
       "      <td>vagon</td>\n",
       "      <td>150</td>\n",
       "      <td>1.6</td>\n",
       "      <td>Petrol</td>\n",
       "      <td>yes</td>\n",
       "      <td>1986</td>\n",
       "      <td>Passat B2</td>\n",
       "      <td>front</td>\n",
       "    </tr>\n",
       "    <tr>\n",
       "      <th>9573</th>\n",
       "      <td>Mercedes-Benz</td>\n",
       "      <td>18500.0</td>\n",
       "      <td>crossover</td>\n",
       "      <td>180</td>\n",
       "      <td>3.5</td>\n",
       "      <td>Petrol</td>\n",
       "      <td>yes</td>\n",
       "      <td>2008</td>\n",
       "      <td>ML 350</td>\n",
       "      <td>full</td>\n",
       "    </tr>\n",
       "    <tr>\n",
       "      <th>9574</th>\n",
       "      <td>Lexus</td>\n",
       "      <td>16999.0</td>\n",
       "      <td>sedan</td>\n",
       "      <td>150</td>\n",
       "      <td>3.5</td>\n",
       "      <td>Gas</td>\n",
       "      <td>yes</td>\n",
       "      <td>2008</td>\n",
       "      <td>ES 350</td>\n",
       "      <td>front</td>\n",
       "    </tr>\n",
       "    <tr>\n",
       "      <th>9575</th>\n",
       "      <td>Audi</td>\n",
       "      <td>22500.0</td>\n",
       "      <td>other</td>\n",
       "      <td>71</td>\n",
       "      <td>3.6</td>\n",
       "      <td>Petrol</td>\n",
       "      <td>yes</td>\n",
       "      <td>2007</td>\n",
       "      <td>Q7</td>\n",
       "      <td>full</td>\n",
       "    </tr>\n",
       "  </tbody>\n",
       "</table>\n",
       "</div>"
      ],
      "text/plain": [
       "                car    price       body  mileage  engV engType registration  \\\n",
       "9571        Hyundai  14500.0  crossover      140   2.0     Gas          yes   \n",
       "9572     Volkswagen   2200.0      vagon      150   1.6  Petrol          yes   \n",
       "9573  Mercedes-Benz  18500.0  crossover      180   3.5  Petrol          yes   \n",
       "9574          Lexus  16999.0      sedan      150   3.5     Gas          yes   \n",
       "9575           Audi  22500.0      other       71   3.6  Petrol          yes   \n",
       "\n",
       "      year      model  drive  \n",
       "9571  2011     Tucson  front  \n",
       "9572  1986  Passat B2  front  \n",
       "9573  2008     ML 350   full  \n",
       "9574  2008     ES 350  front  \n",
       "9575  2007         Q7   full  "
      ]
     },
     "execution_count": 7,
     "metadata": {},
     "output_type": "execute_result"
    }
   ],
   "source": [
    "data_car.tail()          # this is used to return end n (5 by default) rows of a data frame or series."
   ]
  },
  {
   "cell_type": "code",
   "execution_count": 8,
   "metadata": {},
   "outputs": [
    {
     "data": {
      "text/plain": [
       "(9576, 10)"
      ]
     },
     "execution_count": 8,
     "metadata": {},
     "output_type": "execute_result"
    }
   ],
   "source": [
    "data_car.shape       # returns the shape of an array of elements in each dimension"
   ]
  },
  {
   "cell_type": "markdown",
   "metadata": {},
   "source": [
    "---\n",
    "<a name = Section4></a>\n",
    "# **C.  Data Description & Observation**"
   ]
  },
  {
   "cell_type": "code",
   "execution_count": 9,
   "metadata": {},
   "outputs": [
    {
     "data": {
      "text/html": [
       "<div>\n",
       "<style scoped>\n",
       "    .dataframe tbody tr th:only-of-type {\n",
       "        vertical-align: middle;\n",
       "    }\n",
       "\n",
       "    .dataframe tbody tr th {\n",
       "        vertical-align: top;\n",
       "    }\n",
       "\n",
       "    .dataframe thead th {\n",
       "        text-align: right;\n",
       "    }\n",
       "</style>\n",
       "<table border=\"1\" class=\"dataframe\">\n",
       "  <thead>\n",
       "    <tr style=\"text-align: right;\">\n",
       "      <th></th>\n",
       "      <th>car</th>\n",
       "      <th>price</th>\n",
       "      <th>body</th>\n",
       "      <th>mileage</th>\n",
       "      <th>engV</th>\n",
       "      <th>engType</th>\n",
       "      <th>registration</th>\n",
       "      <th>year</th>\n",
       "      <th>model</th>\n",
       "      <th>drive</th>\n",
       "    </tr>\n",
       "  </thead>\n",
       "  <tbody>\n",
       "    <tr>\n",
       "      <th>count</th>\n",
       "      <td>9576</td>\n",
       "      <td>9576.000000</td>\n",
       "      <td>9576</td>\n",
       "      <td>9576.000000</td>\n",
       "      <td>9142.000000</td>\n",
       "      <td>9576</td>\n",
       "      <td>9576</td>\n",
       "      <td>9576.000000</td>\n",
       "      <td>9576</td>\n",
       "      <td>9065</td>\n",
       "    </tr>\n",
       "    <tr>\n",
       "      <th>unique</th>\n",
       "      <td>87</td>\n",
       "      <td>NaN</td>\n",
       "      <td>6</td>\n",
       "      <td>NaN</td>\n",
       "      <td>NaN</td>\n",
       "      <td>4</td>\n",
       "      <td>2</td>\n",
       "      <td>NaN</td>\n",
       "      <td>888</td>\n",
       "      <td>3</td>\n",
       "    </tr>\n",
       "    <tr>\n",
       "      <th>top</th>\n",
       "      <td>Volkswagen</td>\n",
       "      <td>NaN</td>\n",
       "      <td>sedan</td>\n",
       "      <td>NaN</td>\n",
       "      <td>NaN</td>\n",
       "      <td>Petrol</td>\n",
       "      <td>yes</td>\n",
       "      <td>NaN</td>\n",
       "      <td>E-Class</td>\n",
       "      <td>front</td>\n",
       "    </tr>\n",
       "    <tr>\n",
       "      <th>freq</th>\n",
       "      <td>936</td>\n",
       "      <td>NaN</td>\n",
       "      <td>3646</td>\n",
       "      <td>NaN</td>\n",
       "      <td>NaN</td>\n",
       "      <td>4379</td>\n",
       "      <td>9015</td>\n",
       "      <td>NaN</td>\n",
       "      <td>199</td>\n",
       "      <td>5188</td>\n",
       "    </tr>\n",
       "    <tr>\n",
       "      <th>mean</th>\n",
       "      <td>NaN</td>\n",
       "      <td>15633.317316</td>\n",
       "      <td>NaN</td>\n",
       "      <td>138.862364</td>\n",
       "      <td>2.646344</td>\n",
       "      <td>NaN</td>\n",
       "      <td>NaN</td>\n",
       "      <td>2006.605994</td>\n",
       "      <td>NaN</td>\n",
       "      <td>NaN</td>\n",
       "    </tr>\n",
       "    <tr>\n",
       "      <th>std</th>\n",
       "      <td>NaN</td>\n",
       "      <td>24106.523436</td>\n",
       "      <td>NaN</td>\n",
       "      <td>98.629754</td>\n",
       "      <td>5.927699</td>\n",
       "      <td>NaN</td>\n",
       "      <td>NaN</td>\n",
       "      <td>7.067924</td>\n",
       "      <td>NaN</td>\n",
       "      <td>NaN</td>\n",
       "    </tr>\n",
       "    <tr>\n",
       "      <th>min</th>\n",
       "      <td>NaN</td>\n",
       "      <td>0.000000</td>\n",
       "      <td>NaN</td>\n",
       "      <td>0.000000</td>\n",
       "      <td>0.100000</td>\n",
       "      <td>NaN</td>\n",
       "      <td>NaN</td>\n",
       "      <td>1953.000000</td>\n",
       "      <td>NaN</td>\n",
       "      <td>NaN</td>\n",
       "    </tr>\n",
       "    <tr>\n",
       "      <th>25%</th>\n",
       "      <td>NaN</td>\n",
       "      <td>4999.000000</td>\n",
       "      <td>NaN</td>\n",
       "      <td>70.000000</td>\n",
       "      <td>1.600000</td>\n",
       "      <td>NaN</td>\n",
       "      <td>NaN</td>\n",
       "      <td>2004.000000</td>\n",
       "      <td>NaN</td>\n",
       "      <td>NaN</td>\n",
       "    </tr>\n",
       "    <tr>\n",
       "      <th>50%</th>\n",
       "      <td>NaN</td>\n",
       "      <td>9200.000000</td>\n",
       "      <td>NaN</td>\n",
       "      <td>128.000000</td>\n",
       "      <td>2.000000</td>\n",
       "      <td>NaN</td>\n",
       "      <td>NaN</td>\n",
       "      <td>2008.000000</td>\n",
       "      <td>NaN</td>\n",
       "      <td>NaN</td>\n",
       "    </tr>\n",
       "    <tr>\n",
       "      <th>75%</th>\n",
       "      <td>NaN</td>\n",
       "      <td>16700.000000</td>\n",
       "      <td>NaN</td>\n",
       "      <td>194.000000</td>\n",
       "      <td>2.500000</td>\n",
       "      <td>NaN</td>\n",
       "      <td>NaN</td>\n",
       "      <td>2012.000000</td>\n",
       "      <td>NaN</td>\n",
       "      <td>NaN</td>\n",
       "    </tr>\n",
       "    <tr>\n",
       "      <th>max</th>\n",
       "      <td>NaN</td>\n",
       "      <td>547800.000000</td>\n",
       "      <td>NaN</td>\n",
       "      <td>999.000000</td>\n",
       "      <td>99.990000</td>\n",
       "      <td>NaN</td>\n",
       "      <td>NaN</td>\n",
       "      <td>2016.000000</td>\n",
       "      <td>NaN</td>\n",
       "      <td>NaN</td>\n",
       "    </tr>\n",
       "  </tbody>\n",
       "</table>\n",
       "</div>"
      ],
      "text/plain": [
       "               car          price   body      mileage         engV engType  \\\n",
       "count         9576    9576.000000   9576  9576.000000  9142.000000    9576   \n",
       "unique          87            NaN      6          NaN          NaN       4   \n",
       "top     Volkswagen            NaN  sedan          NaN          NaN  Petrol   \n",
       "freq           936            NaN   3646          NaN          NaN    4379   \n",
       "mean           NaN   15633.317316    NaN   138.862364     2.646344     NaN   \n",
       "std            NaN   24106.523436    NaN    98.629754     5.927699     NaN   \n",
       "min            NaN       0.000000    NaN     0.000000     0.100000     NaN   \n",
       "25%            NaN    4999.000000    NaN    70.000000     1.600000     NaN   \n",
       "50%            NaN    9200.000000    NaN   128.000000     2.000000     NaN   \n",
       "75%            NaN   16700.000000    NaN   194.000000     2.500000     NaN   \n",
       "max            NaN  547800.000000    NaN   999.000000    99.990000     NaN   \n",
       "\n",
       "       registration         year    model  drive  \n",
       "count          9576  9576.000000     9576   9065  \n",
       "unique            2          NaN      888      3  \n",
       "top             yes          NaN  E-Class  front  \n",
       "freq           9015          NaN      199   5188  \n",
       "mean            NaN  2006.605994      NaN    NaN  \n",
       "std             NaN     7.067924      NaN    NaN  \n",
       "min             NaN  1953.000000      NaN    NaN  \n",
       "25%             NaN  2004.000000      NaN    NaN  \n",
       "50%             NaN  2008.000000      NaN    NaN  \n",
       "75%             NaN  2012.000000      NaN    NaN  \n",
       "max             NaN  2016.000000      NaN    NaN  "
      ]
     },
     "execution_count": 9,
     "metadata": {},
     "output_type": "execute_result"
    }
   ],
   "source": [
    "data_car.describe(include=\"all\")  \n",
    "\n",
    "# To get some quick description out of the data you can use describe method defined in pandas library"
   ]
  },
  {
   "cell_type": "code",
   "execution_count": 10,
   "metadata": {
    "scrolled": true
   },
   "outputs": [
    {
     "data": {
      "text/html": [
       "<div>\n",
       "<style scoped>\n",
       "    .dataframe tbody tr th:only-of-type {\n",
       "        vertical-align: middle;\n",
       "    }\n",
       "\n",
       "    .dataframe tbody tr th {\n",
       "        vertical-align: top;\n",
       "    }\n",
       "\n",
       "    .dataframe thead th {\n",
       "        text-align: right;\n",
       "    }\n",
       "</style>\n",
       "<table border=\"1\" class=\"dataframe\">\n",
       "  <thead>\n",
       "    <tr style=\"text-align: right;\">\n",
       "      <th></th>\n",
       "      <th>car</th>\n",
       "      <th>price</th>\n",
       "      <th>body</th>\n",
       "      <th>mileage</th>\n",
       "      <th>engV</th>\n",
       "      <th>engType</th>\n",
       "      <th>registration</th>\n",
       "      <th>year</th>\n",
       "      <th>model</th>\n",
       "      <th>drive</th>\n",
       "    </tr>\n",
       "  </thead>\n",
       "  <tbody>\n",
       "    <tr>\n",
       "      <th>334</th>\n",
       "      <td>Toyota</td>\n",
       "      <td>36000.0</td>\n",
       "      <td>crossover</td>\n",
       "      <td>940</td>\n",
       "      <td>NaN</td>\n",
       "      <td>Other</td>\n",
       "      <td>yes</td>\n",
       "      <td>2009</td>\n",
       "      <td>Land Cruiser 200</td>\n",
       "      <td>NaN</td>\n",
       "    </tr>\n",
       "    <tr>\n",
       "      <th>2602</th>\n",
       "      <td>Mercedes-Benz</td>\n",
       "      <td>68700.0</td>\n",
       "      <td>crossover</td>\n",
       "      <td>980</td>\n",
       "      <td>3.0</td>\n",
       "      <td>Diesel</td>\n",
       "      <td>yes</td>\n",
       "      <td>2013</td>\n",
       "      <td>GL 350</td>\n",
       "      <td>full</td>\n",
       "    </tr>\n",
       "    <tr>\n",
       "      <th>4572</th>\n",
       "      <td>Kia</td>\n",
       "      <td>7150.0</td>\n",
       "      <td>hatch</td>\n",
       "      <td>920</td>\n",
       "      <td>1.4</td>\n",
       "      <td>Petrol</td>\n",
       "      <td>yes</td>\n",
       "      <td>2008</td>\n",
       "      <td>Ceed</td>\n",
       "      <td>front</td>\n",
       "    </tr>\n",
       "    <tr>\n",
       "      <th>6857</th>\n",
       "      <td>VAZ</td>\n",
       "      <td>750.0</td>\n",
       "      <td>sedan</td>\n",
       "      <td>999</td>\n",
       "      <td>1.3</td>\n",
       "      <td>Petrol</td>\n",
       "      <td>yes</td>\n",
       "      <td>1984</td>\n",
       "      <td>2106</td>\n",
       "      <td>rear</td>\n",
       "    </tr>\n",
       "    <tr>\n",
       "      <th>7845</th>\n",
       "      <td>Fiat</td>\n",
       "      <td>4000.0</td>\n",
       "      <td>van</td>\n",
       "      <td>999</td>\n",
       "      <td>2.5</td>\n",
       "      <td>Diesel</td>\n",
       "      <td>yes</td>\n",
       "      <td>1998</td>\n",
       "      <td>Ducato ïàññ.</td>\n",
       "      <td>front</td>\n",
       "    </tr>\n",
       "    <tr>\n",
       "      <th>7970</th>\n",
       "      <td>ZAZ</td>\n",
       "      <td>1600.0</td>\n",
       "      <td>sedan</td>\n",
       "      <td>930</td>\n",
       "      <td>1.2</td>\n",
       "      <td>Gas</td>\n",
       "      <td>yes</td>\n",
       "      <td>2006</td>\n",
       "      <td>1103 Ñëàâóòà</td>\n",
       "      <td>front</td>\n",
       "    </tr>\n",
       "  </tbody>\n",
       "</table>\n",
       "</div>"
      ],
      "text/plain": [
       "                car    price       body  mileage  engV engType registration  \\\n",
       "334          Toyota  36000.0  crossover      940   NaN   Other          yes   \n",
       "2602  Mercedes-Benz  68700.0  crossover      980   3.0  Diesel          yes   \n",
       "4572            Kia   7150.0      hatch      920   1.4  Petrol          yes   \n",
       "6857            VAZ    750.0      sedan      999   1.3  Petrol          yes   \n",
       "7845           Fiat   4000.0        van      999   2.5  Diesel          yes   \n",
       "7970            ZAZ   1600.0      sedan      930   1.2     Gas          yes   \n",
       "\n",
       "      year             model  drive  \n",
       "334   2009  Land Cruiser 200    NaN  \n",
       "2602  2013            GL 350   full  \n",
       "4572  2008              Ceed  front  \n",
       "6857  1984              2106   rear  \n",
       "7845  1998      Ducato ïàññ.  front  \n",
       "7970  2006      1103 Ñëàâóòà  front  "
      ]
     },
     "execution_count": 10,
     "metadata": {},
     "output_type": "execute_result"
    }
   ],
   "source": [
    "data_car[data_car['mileage']>900] "
   ]
  },
  {
   "cell_type": "code",
   "execution_count": 11,
   "metadata": {},
   "outputs": [
    {
     "name": "stdout",
     "output_type": "stream",
     "text": [
      "<class 'pandas.core.frame.DataFrame'>\n",
      "RangeIndex: 9576 entries, 0 to 9575\n",
      "Data columns (total 10 columns):\n",
      " #   Column        Non-Null Count  Dtype  \n",
      "---  ------        --------------  -----  \n",
      " 0   car           9576 non-null   object \n",
      " 1   price         9576 non-null   float64\n",
      " 2   body          9576 non-null   object \n",
      " 3   mileage       9576 non-null   int64  \n",
      " 4   engV          9142 non-null   float64\n",
      " 5   engType       9576 non-null   object \n",
      " 6   registration  9576 non-null   object \n",
      " 7   year          9576 non-null   int64  \n",
      " 8   model         9576 non-null   object \n",
      " 9   drive         9065 non-null   object \n",
      "dtypes: float64(2), int64(2), object(6)\n",
      "memory usage: 748.2+ KB\n"
     ]
    }
   ],
   "source": [
    "data_car.info()"
   ]
  },
  {
   "cell_type": "code",
   "execution_count": 12,
   "metadata": {},
   "outputs": [
    {
     "data": {
      "text/html": [
       "<div>\n",
       "<style scoped>\n",
       "    .dataframe tbody tr th:only-of-type {\n",
       "        vertical-align: middle;\n",
       "    }\n",
       "\n",
       "    .dataframe tbody tr th {\n",
       "        vertical-align: top;\n",
       "    }\n",
       "\n",
       "    .dataframe thead th {\n",
       "        text-align: right;\n",
       "    }\n",
       "</style>\n",
       "<table border=\"1\" class=\"dataframe\">\n",
       "  <thead>\n",
       "    <tr style=\"text-align: right;\">\n",
       "      <th></th>\n",
       "      <th>price</th>\n",
       "      <th>mileage</th>\n",
       "      <th>engV</th>\n",
       "      <th>year</th>\n",
       "    </tr>\n",
       "  </thead>\n",
       "  <tbody>\n",
       "    <tr>\n",
       "      <th>price</th>\n",
       "      <td>1.000000</td>\n",
       "      <td>-0.312415</td>\n",
       "      <td>0.051070</td>\n",
       "      <td>0.370379</td>\n",
       "    </tr>\n",
       "    <tr>\n",
       "      <th>mileage</th>\n",
       "      <td>-0.312415</td>\n",
       "      <td>1.000000</td>\n",
       "      <td>0.047070</td>\n",
       "      <td>-0.495599</td>\n",
       "    </tr>\n",
       "    <tr>\n",
       "      <th>engV</th>\n",
       "      <td>0.051070</td>\n",
       "      <td>0.047070</td>\n",
       "      <td>1.000000</td>\n",
       "      <td>-0.042251</td>\n",
       "    </tr>\n",
       "    <tr>\n",
       "      <th>year</th>\n",
       "      <td>0.370379</td>\n",
       "      <td>-0.495599</td>\n",
       "      <td>-0.042251</td>\n",
       "      <td>1.000000</td>\n",
       "    </tr>\n",
       "  </tbody>\n",
       "</table>\n",
       "</div>"
      ],
      "text/plain": [
       "            price   mileage      engV      year\n",
       "price    1.000000 -0.312415  0.051070  0.370379\n",
       "mileage -0.312415  1.000000  0.047070 -0.495599\n",
       "engV     0.051070  0.047070  1.000000 -0.042251\n",
       "year     0.370379 -0.495599 -0.042251  1.000000"
      ]
     },
     "execution_count": 12,
     "metadata": {},
     "output_type": "execute_result"
    }
   ],
   "source": [
    "data_car.corr()"
   ]
  },
  {
   "cell_type": "markdown",
   "metadata": {},
   "source": [
    "---\n",
    "<a name = Section4></a>\n",
    "# **Observation**\n",
    " - We can observe engV and drive is missing/null values.\n",
    " - For series of numerical values - mean\n",
    " - For series of numerical values with outliers - mode\n",
    " \n",
    "From the sample data and with the help of describe and info functions we can infer that mileage column and engV column seem to have outliers with very extereme values of 999 and 99. I checked to see how many columns were getting affected and came to the conclusion that the number of rows affected is quite less(5 and 28 compared to a total of 9576 rows) also there is not much difference between these value and other values. Hence I have decided to take no action. Though they seem to be outliers didn't think they are outliers.\n",
    " \n",
    "\n"
   ]
  },
  {
   "cell_type": "markdown",
   "metadata": {},
   "source": [
    "# **5. Data Pre-Profiling**\n",
    "\n",
    "\n",
    "- This section is emphasised on getting a report about the data.\n",
    "\n",
    "- You need to perform pandas profiling and get some observations out of it..."
   ]
  },
  {
   "cell_type": "code",
   "execution_count": 13,
   "metadata": {},
   "outputs": [
    {
     "name": "stdout",
     "output_type": "stream",
     "text": [
      "Requirement already up-to-date: pandas-profiling in d:\\install\\software\\lib\\site-packages (2.10.0)\n",
      "Requirement already satisfied, skipping upgrade: joblib in d:\\install\\software\\lib\\site-packages (from pandas-profiling) (0.16.0)\n",
      "Requirement already satisfied, skipping upgrade: attrs>=19.3.0 in d:\\install\\software\\lib\\site-packages (from pandas-profiling) (19.3.0)\n",
      "Requirement already satisfied, skipping upgrade: numpy>=1.16.0 in d:\\install\\software\\lib\\site-packages (from pandas-profiling) (1.18.5)\n",
      "Requirement already satisfied, skipping upgrade: pandas!=1.0.0,!=1.0.1,!=1.0.2,!=1.1.0,>=0.25.3 in d:\\install\\software\\lib\\site-packages (from pandas-profiling) (1.0.5)\n",
      "Requirement already satisfied, skipping upgrade: tangled-up-in-unicode>=0.0.6 in d:\\install\\software\\lib\\site-packages (from pandas-profiling) (0.0.6)\n",
      "Requirement already satisfied, skipping upgrade: tqdm>=4.48.2 in d:\\install\\software\\lib\\site-packages (from pandas-profiling) (4.55.1)\n",
      "Requirement already satisfied, skipping upgrade: ipywidgets>=7.5.1 in d:\\install\\software\\lib\\site-packages (from pandas-profiling) (7.5.1)\n",
      "Requirement already satisfied, skipping upgrade: confuse>=1.0.0 in d:\\install\\software\\lib\\site-packages (from pandas-profiling) (1.4.0)\n",
      "Requirement already satisfied, skipping upgrade: scipy>=1.4.1 in d:\\install\\software\\lib\\site-packages (from pandas-profiling) (1.5.0)\n",
      "Requirement already satisfied, skipping upgrade: phik>=0.10.0 in d:\\install\\software\\lib\\site-packages (from pandas-profiling) (0.10.0)\n",
      "Requirement already satisfied, skipping upgrade: jinja2>=2.11.1 in d:\\install\\software\\lib\\site-packages (from pandas-profiling) (2.11.2)\n",
      "Requirement already satisfied, skipping upgrade: htmlmin>=0.1.12 in d:\\install\\software\\lib\\site-packages (from pandas-profiling) (0.1.12)\n",
      "Requirement already satisfied, skipping upgrade: visions[type_image_path]==0.6.0 in d:\\install\\software\\lib\\site-packages (from pandas-profiling) (0.6.0)\n",
      "Requirement already satisfied, skipping upgrade: matplotlib>=3.2.0 in d:\\install\\software\\lib\\site-packages (from pandas-profiling) (3.2.2)\n",
      "Requirement already satisfied, skipping upgrade: missingno>=0.4.2 in d:\\install\\software\\lib\\site-packages (from pandas-profiling) (0.4.2)\n",
      "Requirement already satisfied, skipping upgrade: seaborn>=0.10.1 in d:\\install\\software\\lib\\site-packages (from pandas-profiling) (0.10.1)\n",
      "Requirement already satisfied, skipping upgrade: requests>=2.24.0 in d:\\install\\software\\lib\\site-packages (from pandas-profiling) (2.24.0)\n",
      "Requirement already satisfied, skipping upgrade: python-dateutil>=2.6.1 in d:\\install\\software\\lib\\site-packages (from pandas!=1.0.0,!=1.0.1,!=1.0.2,!=1.1.0,>=0.25.3->pandas-profiling) (2.8.1)\n",
      "Requirement already satisfied, skipping upgrade: pytz>=2017.2 in d:\\install\\software\\lib\\site-packages (from pandas!=1.0.0,!=1.0.1,!=1.0.2,!=1.1.0,>=0.25.3->pandas-profiling) (2020.1)\n",
      "Requirement already satisfied, skipping upgrade: widgetsnbextension~=3.5.0 in d:\\install\\software\\lib\\site-packages (from ipywidgets>=7.5.1->pandas-profiling) (3.5.1)\n",
      "Requirement already satisfied, skipping upgrade: ipykernel>=4.5.1 in d:\\install\\software\\lib\\site-packages (from ipywidgets>=7.5.1->pandas-profiling) (5.3.2)\n",
      "Requirement already satisfied, skipping upgrade: nbformat>=4.2.0 in d:\\install\\software\\lib\\site-packages (from ipywidgets>=7.5.1->pandas-profiling) (5.0.7)\n",
      "Requirement already satisfied, skipping upgrade: traitlets>=4.3.1 in d:\\install\\software\\lib\\site-packages (from ipywidgets>=7.5.1->pandas-profiling) (4.3.3)\n",
      "Requirement already satisfied, skipping upgrade: ipython>=4.0.0; python_version >= \"3.3\" in d:\\install\\software\\lib\\site-packages (from ipywidgets>=7.5.1->pandas-profiling) (7.16.1)\n",
      "Requirement already satisfied, skipping upgrade: pyyaml in d:\\install\\software\\lib\\site-packages (from confuse>=1.0.0->pandas-profiling) (5.3.1)\n",
      "Requirement already satisfied, skipping upgrade: numba>=0.38.1 in d:\\install\\software\\lib\\site-packages (from phik>=0.10.0->pandas-profiling) (0.50.1)\n",
      "Requirement already satisfied, skipping upgrade: MarkupSafe>=0.23 in d:\\install\\software\\lib\\site-packages (from jinja2>=2.11.1->pandas-profiling) (1.1.1)\n",
      "Requirement already satisfied, skipping upgrade: networkx>=2.4 in d:\\install\\software\\lib\\site-packages (from visions[type_image_path]==0.6.0->pandas-profiling) (2.4)\n",
      "Requirement already satisfied, skipping upgrade: Pillow; extra == \"type_image_path\" in d:\\install\\software\\lib\\site-packages (from visions[type_image_path]==0.6.0->pandas-profiling) (7.2.0)\n",
      "Requirement already satisfied, skipping upgrade: imagehash; extra == \"type_image_path\" in d:\\install\\software\\lib\\site-packages (from visions[type_image_path]==0.6.0->pandas-profiling) (4.2.0)\n",
      "Requirement already satisfied, skipping upgrade: cycler>=0.10 in d:\\install\\software\\lib\\site-packages (from matplotlib>=3.2.0->pandas-profiling) (0.10.0)\n",
      "Requirement already satisfied, skipping upgrade: kiwisolver>=1.0.1 in d:\\install\\software\\lib\\site-packages (from matplotlib>=3.2.0->pandas-profiling) (1.2.0)\n",
      "Requirement already satisfied, skipping upgrade: pyparsing!=2.0.4,!=2.1.2,!=2.1.6,>=2.0.1 in d:\\install\\software\\lib\\site-packages (from matplotlib>=3.2.0->pandas-profiling) (2.4.7)\n",
      "Requirement already satisfied, skipping upgrade: certifi>=2017.4.17 in d:\\install\\software\\lib\\site-packages (from requests>=2.24.0->pandas-profiling) (2020.6.20)\n",
      "Requirement already satisfied, skipping upgrade: idna<3,>=2.5 in d:\\install\\software\\lib\\site-packages (from requests>=2.24.0->pandas-profiling) (2.10)\n",
      "Requirement already satisfied, skipping upgrade: chardet<4,>=3.0.2 in d:\\install\\software\\lib\\site-packages (from requests>=2.24.0->pandas-profiling) (3.0.4)\n",
      "Requirement already satisfied, skipping upgrade: urllib3!=1.25.0,!=1.25.1,<1.26,>=1.21.1 in d:\\install\\software\\lib\\site-packages (from requests>=2.24.0->pandas-profiling) (1.25.9)\n",
      "Requirement already satisfied, skipping upgrade: six>=1.5 in d:\\install\\software\\lib\\site-packages (from python-dateutil>=2.6.1->pandas!=1.0.0,!=1.0.1,!=1.0.2,!=1.1.0,>=0.25.3->pandas-profiling) (1.15.0)\n",
      "Requirement already satisfied, skipping upgrade: notebook>=4.4.1 in d:\\install\\software\\lib\\site-packages (from widgetsnbextension~=3.5.0->ipywidgets>=7.5.1->pandas-profiling) (6.0.3)\n",
      "Requirement already satisfied, skipping upgrade: tornado>=4.2 in d:\\install\\software\\lib\\site-packages (from ipykernel>=4.5.1->ipywidgets>=7.5.1->pandas-profiling) (6.0.4)\n",
      "Requirement already satisfied, skipping upgrade: jupyter-client in d:\\install\\software\\lib\\site-packages (from ipykernel>=4.5.1->ipywidgets>=7.5.1->pandas-profiling) (6.1.6)\n",
      "Requirement already satisfied, skipping upgrade: jupyter-core in d:\\install\\software\\lib\\site-packages (from nbformat>=4.2.0->ipywidgets>=7.5.1->pandas-profiling) (4.6.3)\n",
      "Requirement already satisfied, skipping upgrade: ipython-genutils in d:\\install\\software\\lib\\site-packages (from nbformat>=4.2.0->ipywidgets>=7.5.1->pandas-profiling) (0.2.0)\n",
      "Requirement already satisfied, skipping upgrade: jsonschema!=2.5.0,>=2.4 in d:\\install\\software\\lib\\site-packages (from nbformat>=4.2.0->ipywidgets>=7.5.1->pandas-profiling) (3.2.0)\n",
      "Requirement already satisfied, skipping upgrade: decorator in d:\\install\\software\\lib\\site-packages (from traitlets>=4.3.1->ipywidgets>=7.5.1->pandas-profiling) (4.4.2)\n",
      "Requirement already satisfied, skipping upgrade: backcall in d:\\install\\software\\lib\\site-packages (from ipython>=4.0.0; python_version >= \"3.3\"->ipywidgets>=7.5.1->pandas-profiling) (0.2.0)\n",
      "Requirement already satisfied, skipping upgrade: pygments in d:\\install\\software\\lib\\site-packages (from ipython>=4.0.0; python_version >= \"3.3\"->ipywidgets>=7.5.1->pandas-profiling) (2.6.1)\n",
      "Requirement already satisfied, skipping upgrade: colorama; sys_platform == \"win32\" in d:\\install\\software\\lib\\site-packages (from ipython>=4.0.0; python_version >= \"3.3\"->ipywidgets>=7.5.1->pandas-profiling) (0.4.3)\n",
      "Requirement already satisfied, skipping upgrade: jedi>=0.10 in d:\\install\\software\\lib\\site-packages (from ipython>=4.0.0; python_version >= \"3.3\"->ipywidgets>=7.5.1->pandas-profiling) (0.17.1)\n",
      "Requirement already satisfied, skipping upgrade: pickleshare in d:\\install\\software\\lib\\site-packages (from ipython>=4.0.0; python_version >= \"3.3\"->ipywidgets>=7.5.1->pandas-profiling) (0.7.5)\n",
      "Requirement already satisfied, skipping upgrade: setuptools>=18.5 in d:\\install\\software\\lib\\site-packages (from ipython>=4.0.0; python_version >= \"3.3\"->ipywidgets>=7.5.1->pandas-profiling) (49.2.0.post20200714)\n",
      "Requirement already satisfied, skipping upgrade: prompt-toolkit!=3.0.0,!=3.0.1,<3.1.0,>=2.0.0 in d:\\install\\software\\lib\\site-packages (from ipython>=4.0.0; python_version >= \"3.3\"->ipywidgets>=7.5.1->pandas-profiling) (3.0.5)\n",
      "Requirement already satisfied, skipping upgrade: llvmlite<0.34,>=0.33.0.dev0 in d:\\install\\software\\lib\\site-packages (from numba>=0.38.1->phik>=0.10.0->pandas-profiling) (0.33.0+1.g022ab0f)\n",
      "Requirement already satisfied, skipping upgrade: PyWavelets in d:\\install\\software\\lib\\site-packages (from imagehash; extra == \"type_image_path\"->visions[type_image_path]==0.6.0->pandas-profiling) (1.1.1)\n",
      "Requirement already satisfied, skipping upgrade: prometheus-client in d:\\install\\software\\lib\\site-packages (from notebook>=4.4.1->widgetsnbextension~=3.5.0->ipywidgets>=7.5.1->pandas-profiling) (0.8.0)\n",
      "Requirement already satisfied, skipping upgrade: pyzmq>=17 in d:\\install\\software\\lib\\site-packages (from notebook>=4.4.1->widgetsnbextension~=3.5.0->ipywidgets>=7.5.1->pandas-profiling) (19.0.1)\n",
      "Requirement already satisfied, skipping upgrade: nbconvert in d:\\install\\software\\lib\\site-packages (from notebook>=4.4.1->widgetsnbextension~=3.5.0->ipywidgets>=7.5.1->pandas-profiling) (5.6.1)\n",
      "Requirement already satisfied, skipping upgrade: Send2Trash in d:\\install\\software\\lib\\site-packages (from notebook>=4.4.1->widgetsnbextension~=3.5.0->ipywidgets>=7.5.1->pandas-profiling) (1.5.0)\n",
      "Requirement already satisfied, skipping upgrade: terminado>=0.8.1 in d:\\install\\software\\lib\\site-packages (from notebook>=4.4.1->widgetsnbextension~=3.5.0->ipywidgets>=7.5.1->pandas-profiling) (0.8.3)\n",
      "Requirement already satisfied, skipping upgrade: pywin32>=1.0; sys_platform == \"win32\" in d:\\install\\software\\lib\\site-packages (from jupyter-core->nbformat>=4.2.0->ipywidgets>=7.5.1->pandas-profiling) (227)\n",
      "Requirement already satisfied, skipping upgrade: pyrsistent>=0.14.0 in d:\\install\\software\\lib\\site-packages (from jsonschema!=2.5.0,>=2.4->nbformat>=4.2.0->ipywidgets>=7.5.1->pandas-profiling) (0.16.0)\n",
      "Requirement already satisfied, skipping upgrade: parso<0.8.0,>=0.7.0 in d:\\install\\software\\lib\\site-packages (from jedi>=0.10->ipython>=4.0.0; python_version >= \"3.3\"->ipywidgets>=7.5.1->pandas-profiling) (0.7.0)\n",
      "Requirement already satisfied, skipping upgrade: wcwidth in d:\\install\\software\\lib\\site-packages (from prompt-toolkit!=3.0.0,!=3.0.1,<3.1.0,>=2.0.0->ipython>=4.0.0; python_version >= \"3.3\"->ipywidgets>=7.5.1->pandas-profiling) (0.2.5)\n",
      "Requirement already satisfied, skipping upgrade: mistune<2,>=0.8.1 in d:\\install\\software\\lib\\site-packages (from nbconvert->notebook>=4.4.1->widgetsnbextension~=3.5.0->ipywidgets>=7.5.1->pandas-profiling) (0.8.4)\n",
      "Requirement already satisfied, skipping upgrade: bleach in d:\\install\\software\\lib\\site-packages (from nbconvert->notebook>=4.4.1->widgetsnbextension~=3.5.0->ipywidgets>=7.5.1->pandas-profiling) (3.1.5)\n",
      "Requirement already satisfied, skipping upgrade: pandocfilters>=1.4.1 in d:\\install\\software\\lib\\site-packages (from nbconvert->notebook>=4.4.1->widgetsnbextension~=3.5.0->ipywidgets>=7.5.1->pandas-profiling) (1.4.2)\n",
      "Requirement already satisfied, skipping upgrade: defusedxml in d:\\install\\software\\lib\\site-packages (from nbconvert->notebook>=4.4.1->widgetsnbextension~=3.5.0->ipywidgets>=7.5.1->pandas-profiling) (0.6.0)\n",
      "Requirement already satisfied, skipping upgrade: testpath in d:\\install\\software\\lib\\site-packages (from nbconvert->notebook>=4.4.1->widgetsnbextension~=3.5.0->ipywidgets>=7.5.1->pandas-profiling) (0.4.4)\n",
      "Requirement already satisfied, skipping upgrade: entrypoints>=0.2.2 in d:\\install\\software\\lib\\site-packages (from nbconvert->notebook>=4.4.1->widgetsnbextension~=3.5.0->ipywidgets>=7.5.1->pandas-profiling) (0.3)\n",
      "Requirement already satisfied, skipping upgrade: packaging in d:\\install\\software\\lib\\site-packages (from bleach->nbconvert->notebook>=4.4.1->widgetsnbextension~=3.5.0->ipywidgets>=7.5.1->pandas-profiling) (20.4)\n",
      "Requirement already satisfied, skipping upgrade: webencodings in d:\\install\\software\\lib\\site-packages (from bleach->nbconvert->notebook>=4.4.1->widgetsnbextension~=3.5.0->ipywidgets>=7.5.1->pandas-profiling) (0.5.1)\n"
     ]
    }
   ],
   "source": [
    "!pip install pandas-profiling --upgrade"
   ]
  },
  {
   "cell_type": "code",
   "execution_count": 14,
   "metadata": {},
   "outputs": [],
   "source": [
    "import pandas_profiling "
   ]
  },
  {
   "cell_type": "code",
   "execution_count": 15,
   "metadata": {},
   "outputs": [
    {
     "data": {
      "application/vnd.jupyter.widget-view+json": {
       "model_id": "4b200a4c952749668dcbf54c9d7a4b2d",
       "version_major": 2,
       "version_minor": 0
      },
      "text/plain": [
       "Summarize dataset:   0%|          | 0/23 [00:00<?, ?it/s]"
      ]
     },
     "metadata": {},
     "output_type": "display_data"
    },
    {
     "data": {
      "application/vnd.jupyter.widget-view+json": {
       "model_id": "84974758c696439e94a711cc529cedbe",
       "version_major": 2,
       "version_minor": 0
      },
      "text/plain": [
       "Generate report structure:   0%|          | 0/1 [00:00<?, ?it/s]"
      ]
     },
     "metadata": {},
     "output_type": "display_data"
    },
    {
     "data": {
      "application/vnd.jupyter.widget-view+json": {
       "model_id": "2b465cdbfc6d4dfbbaf134fa723cffd6",
       "version_major": 2,
       "version_minor": 0
      },
      "text/plain": [
       "Render HTML:   0%|          | 0/1 [00:00<?, ?it/s]"
      ]
     },
     "metadata": {},
     "output_type": "display_data"
    },
    {
     "data": {
      "application/vnd.jupyter.widget-view+json": {
       "model_id": "0cd3bc9ed4f6464c87e76a93d6cca605",
       "version_major": 2,
       "version_minor": 0
      },
      "text/plain": [
       "Export report to file:   0%|          | 0/1 [00:00<?, ?it/s]"
      ]
     },
     "metadata": {},
     "output_type": "display_data"
    }
   ],
   "source": [
    "profile =data_car.profile_report(title=\"Used Car Sales Profilling before Data_Processing\")\n",
    "profile.to_file(output_file='Car_Sales_Profilling_before_Data_Processing.html')"
   ]
  },
  {
   "cell_type": "markdown",
   "metadata": {},
   "source": [
    "<center><img src=\"https://user-images.githubusercontent.com/72008985/105633758-75327d00-5e80-11eb-9a2e-1c8ed36e613a.jpg\" \n",
    "             align='left'><br/></center>\n"
   ]
  },
  {
   "cell_type": "markdown",
   "metadata": {},
   "source": [
    "<center><img src=https://user-images.githubusercontent.com/72008985/105633760-75cb1380-5e80-11eb-8153-2bde189f50dc.png\" align='left'><br/></center>\n"
   ]
  },
  {
   "cell_type": "markdown",
   "metadata": {},
   "source": [
    "# The profiling overview & warning report describes\n",
    "\n",
    "By pandas profiling, an interactive HTML report gets generated which contains all the information about the columns of the dataset, like the counts and type of each column. Detailed information about each column, coorelation between different columns and a sample of dataset.\n",
    "\n",
    "- It gives us visual interpretation of each column in the data.\n",
    "- Spread of the data can be better understood by the distribution plot.\n",
    "- Grannular level analysis of each column.\n",
    "\n",
    "\n",
    "\n",
    "There are 113 duplicated rows (Action - Remove the duplcates)\n",
    "1% of missing cells are in the dataset (Action - Replace with default/mean value or discard the record)\n",
    "5 Categorical variables, 4 numeric variables and 1 boolean value\n",
    "\n",
    "<b>After data cleaning we will again do pandas profiling to see how preprocessing have transformed our dataset </b>"
   ]
  },
  {
   "cell_type": "markdown",
   "metadata": {},
   "source": [
    "---\n",
    "<a name = Section5></a>\n",
    "# **6. Data Pre Processing**"
   ]
  },
  {
   "cell_type": "code",
   "execution_count": 16,
   "metadata": {},
   "outputs": [],
   "source": [
    "data_car.drop_duplicates(keep='first', inplace = True) # Removing the duplicates"
   ]
  },
  {
   "cell_type": "code",
   "execution_count": 17,
   "metadata": {},
   "outputs": [
    {
     "data": {
      "text/plain": [
       "(9463, 10)"
      ]
     },
     "execution_count": 17,
     "metadata": {},
     "output_type": "execute_result"
    }
   ],
   "source": [
    "data_car.shape "
   ]
  },
  {
   "cell_type": "code",
   "execution_count": 18,
   "metadata": {},
   "outputs": [
    {
     "name": "stdout",
     "output_type": "stream",
     "text": [
      "<class 'pandas.core.frame.DataFrame'>\n",
      "Int64Index: 9463 entries, 0 to 9575\n",
      "Data columns (total 10 columns):\n",
      " #   Column        Non-Null Count  Dtype  \n",
      "---  ------        --------------  -----  \n",
      " 0   car           9463 non-null   object \n",
      " 1   price         9463 non-null   float64\n",
      " 2   body          9463 non-null   object \n",
      " 3   mileage       9463 non-null   int64  \n",
      " 4   engV          9029 non-null   float64\n",
      " 5   engType       9463 non-null   object \n",
      " 6   registration  9463 non-null   object \n",
      " 7   year          9463 non-null   int64  \n",
      " 8   model         9463 non-null   object \n",
      " 9   drive         8953 non-null   object \n",
      "dtypes: float64(2), int64(2), object(6)\n",
      "memory usage: 813.2+ KB\n"
     ]
    }
   ],
   "source": [
    "data_car.info()"
   ]
  },
  {
   "cell_type": "code",
   "execution_count": 19,
   "metadata": {},
   "outputs": [
    {
     "data": {
      "text/plain": [
       "car               0\n",
       "price             0\n",
       "body              0\n",
       "mileage           0\n",
       "engV            434\n",
       "engType           0\n",
       "registration      0\n",
       "year              0\n",
       "model             0\n",
       "drive           510\n",
       "dtype: int64"
      ]
     },
     "execution_count": 19,
     "metadata": {},
     "output_type": "execute_result"
    }
   ],
   "source": [
    "data_car.isnull().sum()       #check missing values"
   ]
  },
  {
   "cell_type": "markdown",
   "metadata": {},
   "source": [
    "<b>From the above output we can see that engV and drive columns contains null values. We will see further how to deal with them </b>"
   ]
  },
  {
   "cell_type": "code",
   "execution_count": 20,
   "metadata": {},
   "outputs": [
    {
     "data": {
      "text/html": [
       "<div>\n",
       "<style scoped>\n",
       "    .dataframe tbody tr th:only-of-type {\n",
       "        vertical-align: middle;\n",
       "    }\n",
       "\n",
       "    .dataframe tbody tr th {\n",
       "        vertical-align: top;\n",
       "    }\n",
       "\n",
       "    .dataframe thead th {\n",
       "        text-align: right;\n",
       "    }\n",
       "</style>\n",
       "<table border=\"1\" class=\"dataframe\">\n",
       "  <thead>\n",
       "    <tr style=\"text-align: right;\">\n",
       "      <th></th>\n",
       "      <th>car</th>\n",
       "      <th>price</th>\n",
       "      <th>body</th>\n",
       "      <th>mileage</th>\n",
       "      <th>engV</th>\n",
       "      <th>engType</th>\n",
       "      <th>registration</th>\n",
       "      <th>year</th>\n",
       "      <th>model</th>\n",
       "      <th>drive</th>\n",
       "    </tr>\n",
       "  </thead>\n",
       "  <tbody>\n",
       "    <tr>\n",
       "      <th>count</th>\n",
       "      <td>9463</td>\n",
       "      <td>9463.000000</td>\n",
       "      <td>9463</td>\n",
       "      <td>9463.000000</td>\n",
       "      <td>9029.000000</td>\n",
       "      <td>9463</td>\n",
       "      <td>9463</td>\n",
       "      <td>9463.000000</td>\n",
       "      <td>9463</td>\n",
       "      <td>8953</td>\n",
       "    </tr>\n",
       "    <tr>\n",
       "      <th>unique</th>\n",
       "      <td>87</td>\n",
       "      <td>NaN</td>\n",
       "      <td>6</td>\n",
       "      <td>NaN</td>\n",
       "      <td>NaN</td>\n",
       "      <td>4</td>\n",
       "      <td>2</td>\n",
       "      <td>NaN</td>\n",
       "      <td>888</td>\n",
       "      <td>3</td>\n",
       "    </tr>\n",
       "    <tr>\n",
       "      <th>top</th>\n",
       "      <td>Volkswagen</td>\n",
       "      <td>NaN</td>\n",
       "      <td>sedan</td>\n",
       "      <td>NaN</td>\n",
       "      <td>NaN</td>\n",
       "      <td>Petrol</td>\n",
       "      <td>yes</td>\n",
       "      <td>NaN</td>\n",
       "      <td>E-Class</td>\n",
       "      <td>front</td>\n",
       "    </tr>\n",
       "    <tr>\n",
       "      <th>freq</th>\n",
       "      <td>927</td>\n",
       "      <td>NaN</td>\n",
       "      <td>3622</td>\n",
       "      <td>NaN</td>\n",
       "      <td>NaN</td>\n",
       "      <td>4341</td>\n",
       "      <td>8902</td>\n",
       "      <td>NaN</td>\n",
       "      <td>192</td>\n",
       "      <td>5171</td>\n",
       "    </tr>\n",
       "    <tr>\n",
       "      <th>mean</th>\n",
       "      <td>NaN</td>\n",
       "      <td>15303.858896</td>\n",
       "      <td>NaN</td>\n",
       "      <td>139.924654</td>\n",
       "      <td>2.641444</td>\n",
       "      <td>NaN</td>\n",
       "      <td>NaN</td>\n",
       "      <td>2006.525837</td>\n",
       "      <td>NaN</td>\n",
       "      <td>NaN</td>\n",
       "    </tr>\n",
       "    <tr>\n",
       "      <th>std</th>\n",
       "      <td>NaN</td>\n",
       "      <td>23057.384098</td>\n",
       "      <td>NaN</td>\n",
       "      <td>98.466036</td>\n",
       "      <td>5.963016</td>\n",
       "      <td>NaN</td>\n",
       "      <td>NaN</td>\n",
       "      <td>7.062584</td>\n",
       "      <td>NaN</td>\n",
       "      <td>NaN</td>\n",
       "    </tr>\n",
       "    <tr>\n",
       "      <th>min</th>\n",
       "      <td>NaN</td>\n",
       "      <td>0.000000</td>\n",
       "      <td>NaN</td>\n",
       "      <td>0.000000</td>\n",
       "      <td>0.100000</td>\n",
       "      <td>NaN</td>\n",
       "      <td>NaN</td>\n",
       "      <td>1953.000000</td>\n",
       "      <td>NaN</td>\n",
       "      <td>NaN</td>\n",
       "    </tr>\n",
       "    <tr>\n",
       "      <th>25%</th>\n",
       "      <td>NaN</td>\n",
       "      <td>4999.000000</td>\n",
       "      <td>NaN</td>\n",
       "      <td>70.000000</td>\n",
       "      <td>1.600000</td>\n",
       "      <td>NaN</td>\n",
       "      <td>NaN</td>\n",
       "      <td>2004.000000</td>\n",
       "      <td>NaN</td>\n",
       "      <td>NaN</td>\n",
       "    </tr>\n",
       "    <tr>\n",
       "      <th>50%</th>\n",
       "      <td>NaN</td>\n",
       "      <td>9200.000000</td>\n",
       "      <td>NaN</td>\n",
       "      <td>129.000000</td>\n",
       "      <td>2.000000</td>\n",
       "      <td>NaN</td>\n",
       "      <td>NaN</td>\n",
       "      <td>2008.000000</td>\n",
       "      <td>NaN</td>\n",
       "      <td>NaN</td>\n",
       "    </tr>\n",
       "    <tr>\n",
       "      <th>75%</th>\n",
       "      <td>NaN</td>\n",
       "      <td>16500.000000</td>\n",
       "      <td>NaN</td>\n",
       "      <td>195.000000</td>\n",
       "      <td>2.500000</td>\n",
       "      <td>NaN</td>\n",
       "      <td>NaN</td>\n",
       "      <td>2012.000000</td>\n",
       "      <td>NaN</td>\n",
       "      <td>NaN</td>\n",
       "    </tr>\n",
       "    <tr>\n",
       "      <th>max</th>\n",
       "      <td>NaN</td>\n",
       "      <td>547800.000000</td>\n",
       "      <td>NaN</td>\n",
       "      <td>999.000000</td>\n",
       "      <td>99.990000</td>\n",
       "      <td>NaN</td>\n",
       "      <td>NaN</td>\n",
       "      <td>2016.000000</td>\n",
       "      <td>NaN</td>\n",
       "      <td>NaN</td>\n",
       "    </tr>\n",
       "  </tbody>\n",
       "</table>\n",
       "</div>"
      ],
      "text/plain": [
       "               car          price   body      mileage         engV engType  \\\n",
       "count         9463    9463.000000   9463  9463.000000  9029.000000    9463   \n",
       "unique          87            NaN      6          NaN          NaN       4   \n",
       "top     Volkswagen            NaN  sedan          NaN          NaN  Petrol   \n",
       "freq           927            NaN   3622          NaN          NaN    4341   \n",
       "mean           NaN   15303.858896    NaN   139.924654     2.641444     NaN   \n",
       "std            NaN   23057.384098    NaN    98.466036     5.963016     NaN   \n",
       "min            NaN       0.000000    NaN     0.000000     0.100000     NaN   \n",
       "25%            NaN    4999.000000    NaN    70.000000     1.600000     NaN   \n",
       "50%            NaN    9200.000000    NaN   129.000000     2.000000     NaN   \n",
       "75%            NaN   16500.000000    NaN   195.000000     2.500000     NaN   \n",
       "max            NaN  547800.000000    NaN   999.000000    99.990000     NaN   \n",
       "\n",
       "       registration         year    model  drive  \n",
       "count          9463  9463.000000     9463   8953  \n",
       "unique            2          NaN      888      3  \n",
       "top             yes          NaN  E-Class  front  \n",
       "freq           8902          NaN      192   5171  \n",
       "mean            NaN  2006.525837      NaN    NaN  \n",
       "std             NaN     7.062584      NaN    NaN  \n",
       "min             NaN  1953.000000      NaN    NaN  \n",
       "25%             NaN  2004.000000      NaN    NaN  \n",
       "50%             NaN  2008.000000      NaN    NaN  \n",
       "75%             NaN  2012.000000      NaN    NaN  \n",
       "max             NaN  2016.000000      NaN    NaN  "
      ]
     },
     "execution_count": 20,
     "metadata": {},
     "output_type": "execute_result"
    }
   ],
   "source": [
    "data_car.describe(include=\"all\")"
   ]
  },
  {
   "cell_type": "markdown",
   "metadata": {},
   "source": [
    "# Handling Missing Value"
   ]
  },
  {
   "cell_type": "markdown",
   "metadata": {},
   "source": [
    "<b>Dealing with zero values</b>\n",
    "\n",
    " - Replacing zero values of price column with mean value of price, group by on car column.\n"
   ]
  },
  {
   "cell_type": "code",
   "execution_count": 21,
   "metadata": {},
   "outputs": [
    {
     "data": {
      "text/plain": [
       "9223"
      ]
     },
     "execution_count": 21,
     "metadata": {},
     "output_type": "execute_result"
    }
   ],
   "source": [
    "data_car['price'].astype(bool).sum(axis=0)                         # This will print count of all non zero values in column\n"
   ]
  },
  {
   "cell_type": "code",
   "execution_count": 22,
   "metadata": {},
   "outputs": [],
   "source": [
    "data_car['price'] = data_car['price'].replace(0,np.nan)                     # This will replace zero value with NaN\n"
   ]
  },
  {
   "cell_type": "code",
   "execution_count": 23,
   "metadata": {},
   "outputs": [],
   "source": [
    "data_car['price'].fillna(data_car.groupby('car')['price'].transform('mean'),inplace=True) # This will replace NaN with mean\n"
   ]
  },
  {
   "cell_type": "code",
   "execution_count": 24,
   "metadata": {},
   "outputs": [
    {
     "data": {
      "text/html": [
       "<div>\n",
       "<style scoped>\n",
       "    .dataframe tbody tr th:only-of-type {\n",
       "        vertical-align: middle;\n",
       "    }\n",
       "\n",
       "    .dataframe tbody tr th {\n",
       "        vertical-align: top;\n",
       "    }\n",
       "\n",
       "    .dataframe thead th {\n",
       "        text-align: right;\n",
       "    }\n",
       "</style>\n",
       "<table border=\"1\" class=\"dataframe\">\n",
       "  <thead>\n",
       "    <tr style=\"text-align: right;\">\n",
       "      <th></th>\n",
       "      <th>car</th>\n",
       "      <th>price</th>\n",
       "      <th>body</th>\n",
       "      <th>mileage</th>\n",
       "      <th>engV</th>\n",
       "      <th>engType</th>\n",
       "      <th>registration</th>\n",
       "      <th>year</th>\n",
       "      <th>model</th>\n",
       "      <th>drive</th>\n",
       "    </tr>\n",
       "  </thead>\n",
       "  <tbody>\n",
       "    <tr>\n",
       "      <th>8824</th>\n",
       "      <td>Fisker</td>\n",
       "      <td>NaN</td>\n",
       "      <td>other</td>\n",
       "      <td>100</td>\n",
       "      <td>NaN</td>\n",
       "      <td>Other</td>\n",
       "      <td>yes</td>\n",
       "      <td>2001</td>\n",
       "      <td>Karma</td>\n",
       "      <td>NaN</td>\n",
       "    </tr>\n",
       "  </tbody>\n",
       "</table>\n",
       "</div>"
      ],
      "text/plain": [
       "         car  price   body  mileage  engV engType registration  year  model  \\\n",
       "8824  Fisker    NaN  other      100   NaN   Other          yes  2001  Karma   \n",
       "\n",
       "     drive  \n",
       "8824   NaN  "
      ]
     },
     "execution_count": 24,
     "metadata": {},
     "output_type": "execute_result"
    }
   ],
   "source": [
    "data_car[data_car['price'].isnull()]                                      # Check the observation for NaN value after replacing\n"
   ]
  },
  {
   "cell_type": "markdown",
   "metadata": {},
   "source": [
    "<b>From the above output we can see that, still we have 1 observation with null value for price column, after replacing null values with mean.\n",
    "This observation still exist with null value, because we had only 1 observation for car brand Fisker with zero price in our dataset before processing the data, so when we calculate mean value of price group by brand then we got the null value for this observation, hence it is updated with NaN value.\n",
    "It is only one record and also having null value for price, engV and drive column, so we can remove this row. </b>"
   ]
  },
  {
   "cell_type": "code",
   "execution_count": 25,
   "metadata": {},
   "outputs": [],
   "source": [
    "data_car.drop(data_car[data_car['price'].isnull()].index, inplace = True)"
   ]
  },
  {
   "cell_type": "markdown",
   "metadata": {},
   "source": [
    "\n",
    "# Dealing with zero values in Mileage#\n",
    "\n",
    "Replacing zero values of mileage column with mean value of mileage, group by on brand column."
   ]
  },
  {
   "cell_type": "code",
   "execution_count": 26,
   "metadata": {},
   "outputs": [
    {
     "data": {
      "text/plain": [
       "9152"
      ]
     },
     "execution_count": 26,
     "metadata": {},
     "output_type": "execute_result"
    }
   ],
   "source": [
    "data_car['mileage'].astype(bool).sum(axis=0)          # This will print count of all non zero values in column"
   ]
  },
  {
   "cell_type": "code",
   "execution_count": 27,
   "metadata": {},
   "outputs": [],
   "source": [
    "data_car['mileage'] = data_car['mileage'].replace(0,np.nan)    # This will replace zero value with NaN"
   ]
  },
  {
   "cell_type": "code",
   "execution_count": 28,
   "metadata": {},
   "outputs": [],
   "source": [
    "data_car['mileage'].fillna(data_car.groupby('car')['mileage'].transform('mean'),inplace=True)  #This will replace NaN with mean"
   ]
  },
  {
   "cell_type": "code",
   "execution_count": 29,
   "metadata": {},
   "outputs": [
    {
     "data": {
      "text/html": [
       "<div>\n",
       "<style scoped>\n",
       "    .dataframe tbody tr th:only-of-type {\n",
       "        vertical-align: middle;\n",
       "    }\n",
       "\n",
       "    .dataframe tbody tr th {\n",
       "        vertical-align: top;\n",
       "    }\n",
       "\n",
       "    .dataframe thead th {\n",
       "        text-align: right;\n",
       "    }\n",
       "</style>\n",
       "<table border=\"1\" class=\"dataframe\">\n",
       "  <thead>\n",
       "    <tr style=\"text-align: right;\">\n",
       "      <th></th>\n",
       "      <th>car</th>\n",
       "      <th>price</th>\n",
       "      <th>body</th>\n",
       "      <th>mileage</th>\n",
       "      <th>engV</th>\n",
       "      <th>engType</th>\n",
       "      <th>registration</th>\n",
       "      <th>year</th>\n",
       "      <th>model</th>\n",
       "      <th>drive</th>\n",
       "    </tr>\n",
       "  </thead>\n",
       "  <tbody>\n",
       "  </tbody>\n",
       "</table>\n",
       "</div>"
      ],
      "text/plain": [
       "Empty DataFrame\n",
       "Columns: [car, price, body, mileage, engV, engType, registration, year, model, drive]\n",
       "Index: []"
      ]
     },
     "execution_count": 29,
     "metadata": {},
     "output_type": "execute_result"
    }
   ],
   "source": [
    "data_car[data_car['mileage'].isnull()]  # Check the observation for NaN value after replacing\n"
   ]
  },
  {
   "cell_type": "markdown",
   "metadata": {},
   "source": [
    " - From the above output we can see that, now mileage column does not have any null value"
   ]
  },
  {
   "cell_type": "code",
   "execution_count": 30,
   "metadata": {},
   "outputs": [
    {
     "data": {
      "text/plain": [
       "car               0\n",
       "price             0\n",
       "body              0\n",
       "mileage           0\n",
       "engV            433\n",
       "engType           0\n",
       "registration      0\n",
       "year              0\n",
       "model             0\n",
       "drive           509\n",
       "dtype: int64"
      ]
     },
     "execution_count": 30,
     "metadata": {},
     "output_type": "execute_result"
    }
   ],
   "source": [
    "data_car.isnull().sum()"
   ]
  },
  {
   "cell_type": "markdown",
   "metadata": {},
   "source": [
    "As per the above output engV column has 433 null values, now we will replace these null values with mean of engV column.\n",
    "\n"
   ]
  },
  {
   "cell_type": "code",
   "execution_count": 31,
   "metadata": {},
   "outputs": [],
   "source": [
    "data_car['engV'].fillna(data_car['engV'].mean(), inplace=True) # This will replace NaN with mean"
   ]
  },
  {
   "cell_type": "code",
   "execution_count": 32,
   "metadata": {},
   "outputs": [
    {
     "data": {
      "text/plain": [
       "car               0\n",
       "price             0\n",
       "body              0\n",
       "mileage           0\n",
       "engV              0\n",
       "engType           0\n",
       "registration      0\n",
       "year              0\n",
       "model             0\n",
       "drive           509\n",
       "dtype: int64"
      ]
     },
     "execution_count": 32,
     "metadata": {},
     "output_type": "execute_result"
    }
   ],
   "source": [
    "data_car.isnull().sum()                                          # Check null value after transforming drive column"
   ]
  },
  {
   "cell_type": "code",
   "execution_count": 33,
   "metadata": {},
   "outputs": [],
   "source": [
    "data_car['drive'].fillna(data_car['drive'].mode()[0], inplace=True)"
   ]
  },
  {
   "cell_type": "code",
   "execution_count": 34,
   "metadata": {},
   "outputs": [
    {
     "data": {
      "text/plain": [
       "car             0\n",
       "price           0\n",
       "body            0\n",
       "mileage         0\n",
       "engV            0\n",
       "engType         0\n",
       "registration    0\n",
       "year            0\n",
       "model           0\n",
       "drive           0\n",
       "dtype: int64"
      ]
     },
     "execution_count": 34,
     "metadata": {},
     "output_type": "execute_result"
    }
   ],
   "source": [
    "data_car.isnull().sum()                                          # Check null value after transforming drive column"
   ]
  },
  {
   "cell_type": "code",
   "execution_count": 35,
   "metadata": {},
   "outputs": [
    {
     "data": {
      "text/html": [
       "<div>\n",
       "<style scoped>\n",
       "    .dataframe tbody tr th:only-of-type {\n",
       "        vertical-align: middle;\n",
       "    }\n",
       "\n",
       "    .dataframe tbody tr th {\n",
       "        vertical-align: top;\n",
       "    }\n",
       "\n",
       "    .dataframe thead th {\n",
       "        text-align: right;\n",
       "    }\n",
       "</style>\n",
       "<table border=\"1\" class=\"dataframe\">\n",
       "  <thead>\n",
       "    <tr style=\"text-align: right;\">\n",
       "      <th></th>\n",
       "      <th>car</th>\n",
       "      <th>price</th>\n",
       "      <th>body</th>\n",
       "      <th>mileage</th>\n",
       "      <th>engV</th>\n",
       "      <th>engType</th>\n",
       "      <th>registration</th>\n",
       "      <th>year</th>\n",
       "      <th>model</th>\n",
       "      <th>drive</th>\n",
       "    </tr>\n",
       "  </thead>\n",
       "  <tbody>\n",
       "    <tr>\n",
       "      <th>count</th>\n",
       "      <td>9462</td>\n",
       "      <td>9462.000000</td>\n",
       "      <td>9462</td>\n",
       "      <td>9462.000000</td>\n",
       "      <td>9462.000000</td>\n",
       "      <td>9462</td>\n",
       "      <td>9462</td>\n",
       "      <td>9462.000000</td>\n",
       "      <td>9462</td>\n",
       "      <td>9462</td>\n",
       "    </tr>\n",
       "    <tr>\n",
       "      <th>unique</th>\n",
       "      <td>86</td>\n",
       "      <td>NaN</td>\n",
       "      <td>6</td>\n",
       "      <td>NaN</td>\n",
       "      <td>NaN</td>\n",
       "      <td>4</td>\n",
       "      <td>2</td>\n",
       "      <td>NaN</td>\n",
       "      <td>887</td>\n",
       "      <td>3</td>\n",
       "    </tr>\n",
       "    <tr>\n",
       "      <th>top</th>\n",
       "      <td>Volkswagen</td>\n",
       "      <td>NaN</td>\n",
       "      <td>sedan</td>\n",
       "      <td>NaN</td>\n",
       "      <td>NaN</td>\n",
       "      <td>Petrol</td>\n",
       "      <td>yes</td>\n",
       "      <td>NaN</td>\n",
       "      <td>E-Class</td>\n",
       "      <td>front</td>\n",
       "    </tr>\n",
       "    <tr>\n",
       "      <th>freq</th>\n",
       "      <td>927</td>\n",
       "      <td>NaN</td>\n",
       "      <td>3622</td>\n",
       "      <td>NaN</td>\n",
       "      <td>NaN</td>\n",
       "      <td>4341</td>\n",
       "      <td>8901</td>\n",
       "      <td>NaN</td>\n",
       "      <td>192</td>\n",
       "      <td>5680</td>\n",
       "    </tr>\n",
       "    <tr>\n",
       "      <th>mean</th>\n",
       "      <td>NaN</td>\n",
       "      <td>15863.779543</td>\n",
       "      <td>NaN</td>\n",
       "      <td>144.756193</td>\n",
       "      <td>2.641444</td>\n",
       "      <td>NaN</td>\n",
       "      <td>NaN</td>\n",
       "      <td>2006.526421</td>\n",
       "      <td>NaN</td>\n",
       "      <td>NaN</td>\n",
       "    </tr>\n",
       "    <tr>\n",
       "      <th>std</th>\n",
       "      <td>NaN</td>\n",
       "      <td>23145.258358</td>\n",
       "      <td>NaN</td>\n",
       "      <td>95.273774</td>\n",
       "      <td>5.824964</td>\n",
       "      <td>NaN</td>\n",
       "      <td>NaN</td>\n",
       "      <td>7.062729</td>\n",
       "      <td>NaN</td>\n",
       "      <td>NaN</td>\n",
       "    </tr>\n",
       "    <tr>\n",
       "      <th>min</th>\n",
       "      <td>NaN</td>\n",
       "      <td>259.350000</td>\n",
       "      <td>NaN</td>\n",
       "      <td>1.000000</td>\n",
       "      <td>0.100000</td>\n",
       "      <td>NaN</td>\n",
       "      <td>NaN</td>\n",
       "      <td>1953.000000</td>\n",
       "      <td>NaN</td>\n",
       "      <td>NaN</td>\n",
       "    </tr>\n",
       "    <tr>\n",
       "      <th>25%</th>\n",
       "      <td>NaN</td>\n",
       "      <td>5500.000000</td>\n",
       "      <td>NaN</td>\n",
       "      <td>80.000000</td>\n",
       "      <td>1.600000</td>\n",
       "      <td>NaN</td>\n",
       "      <td>NaN</td>\n",
       "      <td>2004.000000</td>\n",
       "      <td>NaN</td>\n",
       "      <td>NaN</td>\n",
       "    </tr>\n",
       "    <tr>\n",
       "      <th>50%</th>\n",
       "      <td>NaN</td>\n",
       "      <td>9599.000000</td>\n",
       "      <td>NaN</td>\n",
       "      <td>132.500000</td>\n",
       "      <td>2.000000</td>\n",
       "      <td>NaN</td>\n",
       "      <td>NaN</td>\n",
       "      <td>2008.000000</td>\n",
       "      <td>NaN</td>\n",
       "      <td>NaN</td>\n",
       "    </tr>\n",
       "    <tr>\n",
       "      <th>75%</th>\n",
       "      <td>NaN</td>\n",
       "      <td>17200.000000</td>\n",
       "      <td>NaN</td>\n",
       "      <td>195.000000</td>\n",
       "      <td>2.641444</td>\n",
       "      <td>NaN</td>\n",
       "      <td>NaN</td>\n",
       "      <td>2012.000000</td>\n",
       "      <td>NaN</td>\n",
       "      <td>NaN</td>\n",
       "    </tr>\n",
       "    <tr>\n",
       "      <th>max</th>\n",
       "      <td>NaN</td>\n",
       "      <td>547800.000000</td>\n",
       "      <td>NaN</td>\n",
       "      <td>999.000000</td>\n",
       "      <td>99.990000</td>\n",
       "      <td>NaN</td>\n",
       "      <td>NaN</td>\n",
       "      <td>2016.000000</td>\n",
       "      <td>NaN</td>\n",
       "      <td>NaN</td>\n",
       "    </tr>\n",
       "  </tbody>\n",
       "</table>\n",
       "</div>"
      ],
      "text/plain": [
       "               car          price   body      mileage         engV engType  \\\n",
       "count         9462    9462.000000   9462  9462.000000  9462.000000    9462   \n",
       "unique          86            NaN      6          NaN          NaN       4   \n",
       "top     Volkswagen            NaN  sedan          NaN          NaN  Petrol   \n",
       "freq           927            NaN   3622          NaN          NaN    4341   \n",
       "mean           NaN   15863.779543    NaN   144.756193     2.641444     NaN   \n",
       "std            NaN   23145.258358    NaN    95.273774     5.824964     NaN   \n",
       "min            NaN     259.350000    NaN     1.000000     0.100000     NaN   \n",
       "25%            NaN    5500.000000    NaN    80.000000     1.600000     NaN   \n",
       "50%            NaN    9599.000000    NaN   132.500000     2.000000     NaN   \n",
       "75%            NaN   17200.000000    NaN   195.000000     2.641444     NaN   \n",
       "max            NaN  547800.000000    NaN   999.000000    99.990000     NaN   \n",
       "\n",
       "       registration         year    model  drive  \n",
       "count          9462  9462.000000     9462   9462  \n",
       "unique            2          NaN      887      3  \n",
       "top             yes          NaN  E-Class  front  \n",
       "freq           8901          NaN      192   5680  \n",
       "mean            NaN  2006.526421      NaN    NaN  \n",
       "std             NaN     7.062729      NaN    NaN  \n",
       "min             NaN  1953.000000      NaN    NaN  \n",
       "25%             NaN  2004.000000      NaN    NaN  \n",
       "50%             NaN  2008.000000      NaN    NaN  \n",
       "75%             NaN  2012.000000      NaN    NaN  \n",
       "max             NaN  2016.000000      NaN    NaN  "
      ]
     },
     "execution_count": 35,
     "metadata": {},
     "output_type": "execute_result"
    }
   ],
   "source": [
    "data_car.describe(include='all')"
   ]
  },
  {
   "cell_type": "code",
   "execution_count": 36,
   "metadata": {},
   "outputs": [
    {
     "name": "stdout",
     "output_type": "stream",
     "text": [
      "<class 'pandas.core.frame.DataFrame'>\n",
      "Int64Index: 9462 entries, 0 to 9575\n",
      "Data columns (total 10 columns):\n",
      " #   Column        Non-Null Count  Dtype  \n",
      "---  ------        --------------  -----  \n",
      " 0   car           9462 non-null   object \n",
      " 1   price         9462 non-null   float64\n",
      " 2   body          9462 non-null   object \n",
      " 3   mileage       9462 non-null   float64\n",
      " 4   engV          9462 non-null   float64\n",
      " 5   engType       9462 non-null   object \n",
      " 6   registration  9462 non-null   object \n",
      " 7   year          9462 non-null   int64  \n",
      " 8   model         9462 non-null   object \n",
      " 9   drive         9462 non-null   object \n",
      "dtypes: float64(3), int64(1), object(6)\n",
      "memory usage: 813.1+ KB\n"
     ]
    }
   ],
   "source": [
    "data_car.info()"
   ]
  },
  {
   "cell_type": "markdown",
   "metadata": {},
   "source": [
    "<b>We have processed the data and now the dataset does not contain any missing values. So, the pandas profiling report which we have generated after preprocessing will give us more beneficial insights.\n",
    "\n",
    "In the Dataset info, Total Missing(%) = 0.0% </b>"
   ]
  },
  {
   "cell_type": "markdown",
   "metadata": {},
   "source": [
    "---\n",
    "<a name = Section5></a>\n",
    "# **7. Data Post-Profiling**"
   ]
  },
  {
   "cell_type": "code",
   "execution_count": 37,
   "metadata": {},
   "outputs": [
    {
     "data": {
      "application/vnd.jupyter.widget-view+json": {
       "model_id": "cdaeecbdf6fa4c09b8079c6353062a85",
       "version_major": 2,
       "version_minor": 0
      },
      "text/plain": [
       "Summarize dataset:   0%|          | 0/24 [00:00<?, ?it/s]"
      ]
     },
     "metadata": {},
     "output_type": "display_data"
    },
    {
     "data": {
      "application/vnd.jupyter.widget-view+json": {
       "model_id": "ed8ae55c070047a3b690e0301acddd48",
       "version_major": 2,
       "version_minor": 0
      },
      "text/plain": [
       "Generate report structure:   0%|          | 0/1 [00:00<?, ?it/s]"
      ]
     },
     "metadata": {},
     "output_type": "display_data"
    },
    {
     "data": {
      "application/vnd.jupyter.widget-view+json": {
       "model_id": "50dc72fd617f49cd90aac544498bad2a",
       "version_major": 2,
       "version_minor": 0
      },
      "text/plain": [
       "Render HTML:   0%|          | 0/1 [00:00<?, ?it/s]"
      ]
     },
     "metadata": {},
     "output_type": "display_data"
    },
    {
     "data": {
      "application/vnd.jupyter.widget-view+json": {
       "model_id": "c346df4cd36b4698a38b699ecd061e18",
       "version_major": 2,
       "version_minor": 0
      },
      "text/plain": [
       "Export report to file:   0%|          | 0/1 [00:00<?, ?it/s]"
      ]
     },
     "metadata": {},
     "output_type": "display_data"
    }
   ],
   "source": [
    "profile =data_car.profile_report(title=\"Used Car Sales Profilling after Data_Processing\")\n",
    "profile.to_file(output_file='Car_Sales_Profilling_after_Data_Processing.html')"
   ]
  },
  {
   "cell_type": "markdown",
   "metadata": {},
   "source": [
    "# **8. Exploratory Data Analysis**"
   ]
  },
  {
   "cell_type": "markdown",
   "metadata": {},
   "source": [
    "# A. Top 10 highest price selling car and their model details"
   ]
  },
  {
   "cell_type": "code",
   "execution_count": 38,
   "metadata": {},
   "outputs": [
    {
     "data": {
      "text/html": [
       "<div>\n",
       "<style scoped>\n",
       "    .dataframe tbody tr th:only-of-type {\n",
       "        vertical-align: middle;\n",
       "    }\n",
       "\n",
       "    .dataframe tbody tr th {\n",
       "        vertical-align: top;\n",
       "    }\n",
       "\n",
       "    .dataframe thead th {\n",
       "        text-align: right;\n",
       "    }\n",
       "</style>\n",
       "<table border=\"1\" class=\"dataframe\">\n",
       "  <thead>\n",
       "    <tr style=\"text-align: right;\">\n",
       "      <th></th>\n",
       "      <th>car</th>\n",
       "      <th>price</th>\n",
       "      <th>body</th>\n",
       "      <th>mileage</th>\n",
       "      <th>engV</th>\n",
       "      <th>engType</th>\n",
       "      <th>registration</th>\n",
       "      <th>year</th>\n",
       "      <th>model</th>\n",
       "      <th>drive</th>\n",
       "    </tr>\n",
       "  </thead>\n",
       "  <tbody>\n",
       "    <tr>\n",
       "      <th>4134</th>\n",
       "      <td>Bentley</td>\n",
       "      <td>449999.0</td>\n",
       "      <td>crossover</td>\n",
       "      <td>148.750000</td>\n",
       "      <td>6.00</td>\n",
       "      <td>Petrol</td>\n",
       "      <td>yes</td>\n",
       "      <td>2016</td>\n",
       "      <td>Bentayga</td>\n",
       "      <td>full</td>\n",
       "    </tr>\n",
       "    <tr>\n",
       "      <th>1611</th>\n",
       "      <td>Bentley</td>\n",
       "      <td>499999.0</td>\n",
       "      <td>crossover</td>\n",
       "      <td>148.750000</td>\n",
       "      <td>6.00</td>\n",
       "      <td>Petrol</td>\n",
       "      <td>yes</td>\n",
       "      <td>2016</td>\n",
       "      <td>Bentayga</td>\n",
       "      <td>full</td>\n",
       "    </tr>\n",
       "    <tr>\n",
       "      <th>1478</th>\n",
       "      <td>Bentley</td>\n",
       "      <td>259000.0</td>\n",
       "      <td>sedan</td>\n",
       "      <td>148.750000</td>\n",
       "      <td>6.00</td>\n",
       "      <td>Petrol</td>\n",
       "      <td>yes</td>\n",
       "      <td>2014</td>\n",
       "      <td>Flying Spur</td>\n",
       "      <td>full</td>\n",
       "    </tr>\n",
       "    <tr>\n",
       "      <th>7621</th>\n",
       "      <td>Bentley</td>\n",
       "      <td>547800.0</td>\n",
       "      <td>sedan</td>\n",
       "      <td>148.750000</td>\n",
       "      <td>6.75</td>\n",
       "      <td>Petrol</td>\n",
       "      <td>yes</td>\n",
       "      <td>2016</td>\n",
       "      <td>Mulsanne</td>\n",
       "      <td>rear</td>\n",
       "    </tr>\n",
       "    <tr>\n",
       "      <th>8205</th>\n",
       "      <td>Land Rover</td>\n",
       "      <td>285000.0</td>\n",
       "      <td>crossover</td>\n",
       "      <td>101.893939</td>\n",
       "      <td>5.00</td>\n",
       "      <td>Petrol</td>\n",
       "      <td>yes</td>\n",
       "      <td>2016</td>\n",
       "      <td>Range Rover</td>\n",
       "      <td>full</td>\n",
       "    </tr>\n",
       "    <tr>\n",
       "      <th>5849</th>\n",
       "      <td>Mercedes-Benz</td>\n",
       "      <td>300000.0</td>\n",
       "      <td>other</td>\n",
       "      <td>37.000000</td>\n",
       "      <td>5.00</td>\n",
       "      <td>Petrol</td>\n",
       "      <td>yes</td>\n",
       "      <td>2012</td>\n",
       "      <td>G 500</td>\n",
       "      <td>full</td>\n",
       "    </tr>\n",
       "    <tr>\n",
       "      <th>1891</th>\n",
       "      <td>Mercedes-Benz</td>\n",
       "      <td>295000.0</td>\n",
       "      <td>sedan</td>\n",
       "      <td>29.000000</td>\n",
       "      <td>6.00</td>\n",
       "      <td>Petrol</td>\n",
       "      <td>yes</td>\n",
       "      <td>2011</td>\n",
       "      <td>S 600</td>\n",
       "      <td>rear</td>\n",
       "    </tr>\n",
       "    <tr>\n",
       "      <th>4325</th>\n",
       "      <td>Mercedes-Benz</td>\n",
       "      <td>300000.0</td>\n",
       "      <td>sedan</td>\n",
       "      <td>68.000000</td>\n",
       "      <td>6.00</td>\n",
       "      <td>Petrol</td>\n",
       "      <td>yes</td>\n",
       "      <td>2011</td>\n",
       "      <td>S 600</td>\n",
       "      <td>front</td>\n",
       "    </tr>\n",
       "    <tr>\n",
       "      <th>564</th>\n",
       "      <td>Mercedes-Benz</td>\n",
       "      <td>250000.0</td>\n",
       "      <td>other</td>\n",
       "      <td>6.000000</td>\n",
       "      <td>5.50</td>\n",
       "      <td>Petrol</td>\n",
       "      <td>yes</td>\n",
       "      <td>2016</td>\n",
       "      <td>S 63 AMG</td>\n",
       "      <td>full</td>\n",
       "    </tr>\n",
       "    <tr>\n",
       "      <th>2165</th>\n",
       "      <td>Mercedes-Benz</td>\n",
       "      <td>295000.0</td>\n",
       "      <td>sedan</td>\n",
       "      <td>29.000000</td>\n",
       "      <td>6.00</td>\n",
       "      <td>Petrol</td>\n",
       "      <td>yes</td>\n",
       "      <td>2011</td>\n",
       "      <td>S-Guard</td>\n",
       "      <td>rear</td>\n",
       "    </tr>\n",
       "  </tbody>\n",
       "</table>\n",
       "</div>"
      ],
      "text/plain": [
       "                car     price       body     mileage  engV engType  \\\n",
       "4134        Bentley  449999.0  crossover  148.750000  6.00  Petrol   \n",
       "1611        Bentley  499999.0  crossover  148.750000  6.00  Petrol   \n",
       "1478        Bentley  259000.0      sedan  148.750000  6.00  Petrol   \n",
       "7621        Bentley  547800.0      sedan  148.750000  6.75  Petrol   \n",
       "8205     Land Rover  285000.0  crossover  101.893939  5.00  Petrol   \n",
       "5849  Mercedes-Benz  300000.0      other   37.000000  5.00  Petrol   \n",
       "1891  Mercedes-Benz  295000.0      sedan   29.000000  6.00  Petrol   \n",
       "4325  Mercedes-Benz  300000.0      sedan   68.000000  6.00  Petrol   \n",
       "564   Mercedes-Benz  250000.0      other    6.000000  5.50  Petrol   \n",
       "2165  Mercedes-Benz  295000.0      sedan   29.000000  6.00  Petrol   \n",
       "\n",
       "     registration  year        model  drive  \n",
       "4134          yes  2016     Bentayga   full  \n",
       "1611          yes  2016     Bentayga   full  \n",
       "1478          yes  2014  Flying Spur   full  \n",
       "7621          yes  2016     Mulsanne   rear  \n",
       "8205          yes  2016  Range Rover   full  \n",
       "5849          yes  2012        G 500   full  \n",
       "1891          yes  2011        S 600   rear  \n",
       "4325          yes  2011        S 600  front  \n",
       "564           yes  2016     S 63 AMG   full  \n",
       "2165          yes  2011      S-Guard   rear  "
      ]
     },
     "execution_count": 38,
     "metadata": {},
     "output_type": "execute_result"
    }
   ],
   "source": [
    "data_car[data_car.price.isin(data_car.price.nlargest(10))].sort_values(['car','model','body','mileage','price'])\n"
   ]
  },
  {
   "cell_type": "code",
   "execution_count": 39,
   "metadata": {},
   "outputs": [
    {
     "data": {
      "text/plain": [
       "Text(0.5, 1.0, 'Top 10 car brands on sale')"
      ]
     },
     "execution_count": 39,
     "metadata": {},
     "output_type": "execute_result"
    },
    {
     "data": {
      "image/png": "[encoded data removed]",
      "text/plain": [
       "<Figure size 432x288 with 1 Axes>"
      ]
     },
     "metadata": {
      "needs_background": "light"
     },
     "output_type": "display_data"
    }
   ],
   "source": [
    "data_car.car.value_counts().head(10).plot.bar()\n",
    "plt.title(\"Top 10 car brands on sale\")"
   ]
  },
  {
   "cell_type": "markdown",
   "metadata": {},
   "source": [
    "- **This shows Volkswagen and Mercedes-Benz are top most brands on sale and hence these would be preferred choices for high profile people**"
   ]
  },
  {
   "cell_type": "markdown",
   "metadata": {},
   "source": [
    "# B. Top 10 lowest price selling car and their models details\n"
   ]
  },
  {
   "cell_type": "code",
   "execution_count": 40,
   "metadata": {},
   "outputs": [
    {
     "data": {
      "text/html": [
       "<div>\n",
       "<style scoped>\n",
       "    .dataframe tbody tr th:only-of-type {\n",
       "        vertical-align: middle;\n",
       "    }\n",
       "\n",
       "    .dataframe tbody tr th {\n",
       "        vertical-align: top;\n",
       "    }\n",
       "\n",
       "    .dataframe thead th {\n",
       "        text-align: right;\n",
       "    }\n",
       "</style>\n",
       "<table border=\"1\" class=\"dataframe\">\n",
       "  <thead>\n",
       "    <tr style=\"text-align: right;\">\n",
       "      <th></th>\n",
       "      <th>car</th>\n",
       "      <th>price</th>\n",
       "      <th>body</th>\n",
       "      <th>mileage</th>\n",
       "      <th>engV</th>\n",
       "      <th>engType</th>\n",
       "      <th>registration</th>\n",
       "      <th>year</th>\n",
       "      <th>model</th>\n",
       "      <th>drive</th>\n",
       "    </tr>\n",
       "  </thead>\n",
       "  <tbody>\n",
       "    <tr>\n",
       "      <th>5010</th>\n",
       "      <td>GAZ</td>\n",
       "      <td>259.350</td>\n",
       "      <td>sedan</td>\n",
       "      <td>1.0</td>\n",
       "      <td>2.400000</td>\n",
       "      <td>Other</td>\n",
       "      <td>yes</td>\n",
       "      <td>1959</td>\n",
       "      <td>21</td>\n",
       "      <td>rear</td>\n",
       "    </tr>\n",
       "    <tr>\n",
       "      <th>6457</th>\n",
       "      <td>Moskvich-AZLK</td>\n",
       "      <td>280.000</td>\n",
       "      <td>sedan</td>\n",
       "      <td>99.0</td>\n",
       "      <td>1.500000</td>\n",
       "      <td>Petrol</td>\n",
       "      <td>yes</td>\n",
       "      <td>1976</td>\n",
       "      <td>2140</td>\n",
       "      <td>rear</td>\n",
       "    </tr>\n",
       "    <tr>\n",
       "      <th>7566</th>\n",
       "      <td>Moskvich-AZLK</td>\n",
       "      <td>350.000</td>\n",
       "      <td>sedan</td>\n",
       "      <td>100.0</td>\n",
       "      <td>2.641444</td>\n",
       "      <td>Other</td>\n",
       "      <td>yes</td>\n",
       "      <td>1985</td>\n",
       "      <td>2140</td>\n",
       "      <td>front</td>\n",
       "    </tr>\n",
       "    <tr>\n",
       "      <th>8252</th>\n",
       "      <td>ZAZ</td>\n",
       "      <td>370.500</td>\n",
       "      <td>sedan</td>\n",
       "      <td>3.0</td>\n",
       "      <td>1.100000</td>\n",
       "      <td>Petrol</td>\n",
       "      <td>yes</td>\n",
       "      <td>1989</td>\n",
       "      <td>968</td>\n",
       "      <td>rear</td>\n",
       "    </tr>\n",
       "    <tr>\n",
       "      <th>4905</th>\n",
       "      <td>VAZ</td>\n",
       "      <td>389.025</td>\n",
       "      <td>vagon</td>\n",
       "      <td>1.0</td>\n",
       "      <td>1.300000</td>\n",
       "      <td>Petrol</td>\n",
       "      <td>yes</td>\n",
       "      <td>1983</td>\n",
       "      <td>2102</td>\n",
       "      <td>front</td>\n",
       "    </tr>\n",
       "    <tr>\n",
       "      <th>7149</th>\n",
       "      <td>Moskvich-AZLK</td>\n",
       "      <td>400.000</td>\n",
       "      <td>sedan</td>\n",
       "      <td>1.0</td>\n",
       "      <td>10.000000</td>\n",
       "      <td>Petrol</td>\n",
       "      <td>yes</td>\n",
       "      <td>1985</td>\n",
       "      <td>2140</td>\n",
       "      <td>rear</td>\n",
       "    </tr>\n",
       "    <tr>\n",
       "      <th>7588</th>\n",
       "      <td>ZAZ</td>\n",
       "      <td>400.000</td>\n",
       "      <td>sedan</td>\n",
       "      <td>20.0</td>\n",
       "      <td>2.641444</td>\n",
       "      <td>Petrol</td>\n",
       "      <td>yes</td>\n",
       "      <td>1990</td>\n",
       "      <td>968</td>\n",
       "      <td>rear</td>\n",
       "    </tr>\n",
       "    <tr>\n",
       "      <th>8736</th>\n",
       "      <td>VAZ</td>\n",
       "      <td>400.000</td>\n",
       "      <td>sedan</td>\n",
       "      <td>10.0</td>\n",
       "      <td>1.100000</td>\n",
       "      <td>Petrol</td>\n",
       "      <td>yes</td>\n",
       "      <td>1982</td>\n",
       "      <td>2101</td>\n",
       "      <td>rear</td>\n",
       "    </tr>\n",
       "    <tr>\n",
       "      <th>4130</th>\n",
       "      <td>ZAZ</td>\n",
       "      <td>407.550</td>\n",
       "      <td>hatch</td>\n",
       "      <td>143.0</td>\n",
       "      <td>0.900000</td>\n",
       "      <td>Petrol</td>\n",
       "      <td>yes</td>\n",
       "      <td>1994</td>\n",
       "      <td>1102 Òàâðèÿ</td>\n",
       "      <td>front</td>\n",
       "    </tr>\n",
       "    <tr>\n",
       "      <th>3511</th>\n",
       "      <td>VAZ</td>\n",
       "      <td>460.000</td>\n",
       "      <td>sedan</td>\n",
       "      <td>1.0</td>\n",
       "      <td>2.641444</td>\n",
       "      <td>Petrol</td>\n",
       "      <td>yes</td>\n",
       "      <td>1981</td>\n",
       "      <td>2101</td>\n",
       "      <td>rear</td>\n",
       "    </tr>\n",
       "  </tbody>\n",
       "</table>\n",
       "</div>"
      ],
      "text/plain": [
       "                car    price   body  mileage       engV engType registration  \\\n",
       "5010            GAZ  259.350  sedan      1.0   2.400000   Other          yes   \n",
       "6457  Moskvich-AZLK  280.000  sedan     99.0   1.500000  Petrol          yes   \n",
       "7566  Moskvich-AZLK  350.000  sedan    100.0   2.641444   Other          yes   \n",
       "8252            ZAZ  370.500  sedan      3.0   1.100000  Petrol          yes   \n",
       "4905            VAZ  389.025  vagon      1.0   1.300000  Petrol          yes   \n",
       "7149  Moskvich-AZLK  400.000  sedan      1.0  10.000000  Petrol          yes   \n",
       "7588            ZAZ  400.000  sedan     20.0   2.641444  Petrol          yes   \n",
       "8736            VAZ  400.000  sedan     10.0   1.100000  Petrol          yes   \n",
       "4130            ZAZ  407.550  hatch    143.0   0.900000  Petrol          yes   \n",
       "3511            VAZ  460.000  sedan      1.0   2.641444  Petrol          yes   \n",
       "\n",
       "      year        model  drive  \n",
       "5010  1959           21   rear  \n",
       "6457  1976         2140   rear  \n",
       "7566  1985         2140  front  \n",
       "8252  1989          968   rear  \n",
       "4905  1983         2102  front  \n",
       "7149  1985         2140   rear  \n",
       "7588  1990          968   rear  \n",
       "8736  1982         2101   rear  \n",
       "4130  1994  1102 Òàâðèÿ  front  \n",
       "3511  1981         2101   rear  "
      ]
     },
     "execution_count": 40,
     "metadata": {},
     "output_type": "execute_result"
    }
   ],
   "source": [
    "data_car[data_car.price.isin(data_car.price.nsmallest(10))].sort_values('price')\n"
   ]
  },
  {
   "cell_type": "markdown",
   "metadata": {},
   "source": [
    "# C. Which brand of cars sold the most ?**"
   ]
  },
  {
   "cell_type": "code",
   "execution_count": 41,
   "metadata": {
    "scrolled": true
   },
   "outputs": [
    {
     "data": {
      "image/png": "[encoded data removed]",
      "text/plain": [
       "<Figure size 720x360 with 1 Axes>"
      ]
     },
     "metadata": {
      "needs_background": "light"
     },
     "output_type": "display_data"
    }
   ],
   "source": [
    "plt.figure(figsize=(10,5))\n",
    "sns.countplot(y = 'car', data = data_car, order = data_car['car'].value_counts().nlargest(15).index)\n",
    "plt.title(\"Cars sold by brand\")\n",
    "plt.ylabel('Brand')\n",
    "plt.xlabel('No. of Vehicles');\n",
    "plt.show()"
   ]
  },
  {
   "cell_type": "markdown",
   "metadata": {},
   "source": [
    "   - **By this chart we can say that the most cars sold by the company was **Volkswagen** followed by **Mercedes-Benz and BMW**. </b>"
   ]
  },
  {
   "cell_type": "markdown",
   "metadata": {},
   "source": [
    "# D. Which body segment of cars sold the most ?**"
   ]
  },
  {
   "cell_type": "code",
   "execution_count": 42,
   "metadata": {
    "scrolled": false
   },
   "outputs": [
    {
     "data": {
      "text/plain": [
       "Text(0.5, 0, 'Body type')"
      ]
     },
     "execution_count": 42,
     "metadata": {},
     "output_type": "execute_result"
    },
    {
     "data": {
      "image/png": "[encoded data removed]",
      "text/plain": [
       "<Figure size 432x288 with 1 Axes>"
      ]
     },
     "metadata": {
      "needs_background": "light"
     },
     "output_type": "display_data"
    }
   ],
   "source": [
    "data_car[\"body\"].value_counts().plot.bar()\n",
    "plt.title(\"Cars sold by body\")\n",
    "plt.ylabel('Number of vehicles')\n",
    "plt.xlabel('Body type')"
   ]
  },
  {
   "cell_type": "markdown",
   "metadata": {},
   "source": [
    "  - **This chart says that \"Sedan\" body type cars are the most sold cars**"
   ]
  },
  {
   "cell_type": "markdown",
   "metadata": {},
   "source": [
    "# E. Bar chart of car body segment in terms of %"
   ]
  },
  {
   "cell_type": "code",
   "execution_count": 43,
   "metadata": {},
   "outputs": [
    {
     "data": {
      "image/png": "[encoded data removed]",
      "text/plain": [
       "<Figure size 432x288 with 1 Axes>"
      ]
     },
     "metadata": {
      "needs_background": "light"
     },
     "output_type": "display_data"
    }
   ],
   "source": [
    "(data_car['body'].value_counts() / len(data_car)*100).plot.bar()\n",
    "plt.title(\"Body type bar diagram\")\n",
    "plt.ylabel('% of vehicles')\n",
    "plt.xlabel('Body type');"
   ]
  },
  {
   "cell_type": "markdown",
   "metadata": {},
   "source": [
    "- **Now we can say that approx 38% of total cars sold in Sedan body type, 21% in Crossover body type and 13% in Hatch body type.**"
   ]
  },
  {
   "cell_type": "markdown",
   "metadata": {},
   "source": [
    "# F. Which Engine Type segment of cars sold the most ?**"
   ]
  },
  {
   "cell_type": "code",
   "execution_count": 44,
   "metadata": {},
   "outputs": [
    {
     "data": {
      "image/png": "[encoded data removed]",
      "text/plain": [
       "<Figure size 720x360 with 1 Axes>"
      ]
     },
     "metadata": {
      "needs_background": "light"
     },
     "output_type": "display_data"
    }
   ],
   "source": [
    "data_car[\"engType\"].value_counts().plot.bar(figsize = (10, 5))\n",
    "plt.title(\"Cars sold by body\")\n",
    "plt.ylabel('Number of vehicles')\n",
    "plt.xlabel('Engine type');"
   ]
  },
  {
   "cell_type": "markdown",
   "metadata": {},
   "source": [
    "- **Petrol engine type is preferred over diesel & gas.**"
   ]
  },
  {
   "cell_type": "markdown",
   "metadata": {},
   "source": [
    "# G. Which drive segment of cars sold the most ?**"
   ]
  },
  {
   "cell_type": "code",
   "execution_count": 45,
   "metadata": {},
   "outputs": [
    {
     "data": {
      "image/png": "[encoded data removed]",
      "text/plain": [
       "<Figure size 432x432 with 1 Axes>"
      ]
     },
     "metadata": {},
     "output_type": "display_data"
    }
   ],
   "source": [
    "# Pie chart of car 'drive' type\n",
    "plt.figure(figsize=(10,10))\n",
    "data_car['drive'].value_counts().plot.pie(figsize=(6, 6), autopct='%.2f')\n",
    "plt.title(\"Drive Type pie diagram\")\n",
    "plt.ylabel('Number of vehicles')\n",
    "plt.xlabel('Drive Type');"
   ]
  },
  {
   "cell_type": "markdown",
   "metadata": {},
   "source": [
    " - **We can say that the most sold cars in front drive type, in terms of percentage we can say that, approx 60.3% of total cars sold in front drive type, 25.60% in full drive type and 14.37% in rear drive type.**"
   ]
  },
  {
   "cell_type": "markdown",
   "metadata": {},
   "source": [
    "# H.  Which Price segment of cars sold the most ?**"
   ]
  },
  {
   "cell_type": "code",
   "execution_count": 46,
   "metadata": {},
   "outputs": [
    {
     "data": {
      "text/plain": [
       "259.35"
      ]
     },
     "execution_count": 46,
     "metadata": {},
     "output_type": "execute_result"
    }
   ],
   "source": [
    "data_car['price'].min()                           # minimum price\n"
   ]
  },
  {
   "cell_type": "code",
   "execution_count": 47,
   "metadata": {},
   "outputs": [
    {
     "data": {
      "text/plain": [
       "547800.0"
      ]
     },
     "execution_count": 47,
     "metadata": {},
     "output_type": "execute_result"
    }
   ],
   "source": [
    "data_car['price'].max()                           # maximum price\n"
   ]
  },
  {
   "cell_type": "code",
   "execution_count": 48,
   "metadata": {},
   "outputs": [],
   "source": [
    "# Create a new column 'price_group' and assign the value based on car price\n",
    "data_car['price_group'] = pd.cut(data_car['price'],[0,20000,40000,60000,80000,100000,600000], \n",
    "                                labels = ['<20K','20-39K','40-59K','60-79K','80-99K','>100K'], include_lowest = True)\n",
    "data_car['price_group'] = data_car['price_group'].astype(object)"
   ]
  },
  {
   "cell_type": "code",
   "execution_count": 49,
   "metadata": {},
   "outputs": [
    {
     "data": {
      "image/png": "[encoded data removed]",
      "text/plain": [
       "<Figure size 432x288 with 1 Axes>"
      ]
     },
     "metadata": {
      "needs_background": "light"
     },
     "output_type": "display_data"
    }
   ],
   "source": [
    "(data_car['price_group'].value_counts() / len(data_car) *100).plot(kind=\"bar\",color=\"g\")\n",
    "\n",
    "plt.title(\"Price Group bar diagram\")\n",
    "plt.ylabel('% of vehicles')\n",
    "plt.xlabel('Price Group');"
   ]
  },
  {
   "cell_type": "markdown",
   "metadata": {},
   "source": [
    "- **By this chart we can say that approx 80% of cars sold in the price range of less than or equal to $ 20000**\n",
    "\n"
   ]
  },
  {
   "cell_type": "markdown",
   "metadata": {},
   "source": [
    "# I. Body type v/s price group comparasion"
   ]
  },
  {
   "cell_type": "code",
   "execution_count": 50,
   "metadata": {},
   "outputs": [
    {
     "data": {
      "image/png": "[encoded data removed]",
      "text/plain": [
       "<Figure size 720x360 with 1 Axes>"
      ]
     },
     "metadata": {
      "needs_background": "light"
     },
     "output_type": "display_data"
    }
   ],
   "source": [
    "# body type v/s price group\n",
    "plt.figure(figsize=(10,5))\n",
    "sns.countplot(y='price_group',data=data_car, hue='body', order=['<20K','20-39K','40-59K','60-79K','80-99K','>100K'])           \n",
    "plt.title(\"Price Group v/s Body Type\")\n",
    "plt.ylabel('Price Group')\n",
    "plt.xlabel('Count of vehicles');"
   ]
  },
  {
   "cell_type": "markdown",
   "metadata": {},
   "source": [
    "**By this chart we can say that**\n",
    "\n",
    " - The most cars sold in price range of 200 to 19999 and majority of these are in Sedan body type.**\n",
    " - The majority is Crossover body type in Cars sold at a price 20000 or above.**"
   ]
  },
  {
   "cell_type": "markdown",
   "metadata": {},
   "source": [
    "# J. Distribution of vehicles based on year of registration ?"
   ]
  },
  {
   "cell_type": "code",
   "execution_count": 51,
   "metadata": {},
   "outputs": [
    {
     "data": {
      "text/html": [
       "<div>\n",
       "<style scoped>\n",
       "    .dataframe tbody tr th:only-of-type {\n",
       "        vertical-align: middle;\n",
       "    }\n",
       "\n",
       "    .dataframe tbody tr th {\n",
       "        vertical-align: top;\n",
       "    }\n",
       "\n",
       "    .dataframe thead th {\n",
       "        text-align: right;\n",
       "    }\n",
       "</style>\n",
       "<table border=\"1\" class=\"dataframe\">\n",
       "  <thead>\n",
       "    <tr style=\"text-align: right;\">\n",
       "      <th></th>\n",
       "      <th>year</th>\n",
       "      <th>registration</th>\n",
       "      <th>RegCounts</th>\n",
       "    </tr>\n",
       "  </thead>\n",
       "  <tbody>\n",
       "    <tr>\n",
       "      <th>0</th>\n",
       "      <td>2008</td>\n",
       "      <td>yes</td>\n",
       "      <td>1142</td>\n",
       "    </tr>\n",
       "    <tr>\n",
       "      <th>1</th>\n",
       "      <td>2007</td>\n",
       "      <td>yes</td>\n",
       "      <td>914</td>\n",
       "    </tr>\n",
       "    <tr>\n",
       "      <th>2</th>\n",
       "      <td>2012</td>\n",
       "      <td>yes</td>\n",
       "      <td>749</td>\n",
       "    </tr>\n",
       "    <tr>\n",
       "      <th>3</th>\n",
       "      <td>2011</td>\n",
       "      <td>yes</td>\n",
       "      <td>681</td>\n",
       "    </tr>\n",
       "    <tr>\n",
       "      <th>4</th>\n",
       "      <td>2013</td>\n",
       "      <td>yes</td>\n",
       "      <td>632</td>\n",
       "    </tr>\n",
       "  </tbody>\n",
       "</table>\n",
       "</div>"
      ],
      "text/plain": [
       "   year registration  RegCounts\n",
       "0  2008          yes       1142\n",
       "1  2007          yes        914\n",
       "2  2012          yes        749\n",
       "3  2011          yes        681\n",
       "4  2013          yes        632"
      ]
     },
     "metadata": {},
     "output_type": "display_data"
    },
    {
     "data": {
      "text/plain": [
       "Text(0.5, 1.0, 'Years group having max sale/registration')"
      ]
     },
     "execution_count": 51,
     "metadata": {},
     "output_type": "execute_result"
    },
    {
     "data": {
      "image/png": "[encoded data removed]",
      "text/plain": [
       "<Figure size 432x288 with 1 Axes>"
      ]
     },
     "metadata": {
      "needs_background": "light"
     },
     "output_type": "display_data"
    }
   ],
   "source": [
    "data_car.sort_values(['car','model','body','mileage','year'])\n",
    "\n",
    "df = data_car.groupby('year')['registration'].value_counts().sort_values(ascending=False)\n",
    "df = pd.DataFrame(df)\n",
    "df.rename(columns={'registration': 'RegCounts'}, inplace=True)\n",
    "df.reset_index(inplace=True)\n",
    "display(df.head())\n",
    "sns.lineplot(data=df, x='year', y='RegCounts', hue='registration')\n",
    "#sns.scatterplot(data=df, x='year', y='RegCounts', hue='registration')\n",
    "plt.title(\"Years group having max sale/registration\")"
   ]
  },
  {
   "cell_type": "markdown",
   "metadata": {},
   "source": [
    " - **This graph shows in which Year was the highest registrations, and hence shows max sale was done in the Year 2008. This info can be use to start working/research why sale was max in this year. What was the factors affected this sale/registrations**"
   ]
  },
  {
   "cell_type": "markdown",
   "metadata": {},
   "source": [
    "# K. Price distribution over the year w.r.t to engType ?**"
   ]
  },
  {
   "cell_type": "code",
   "execution_count": 52,
   "metadata": {},
   "outputs": [
    {
     "data": {
      "text/plain": [
       "Text(0.5, 1.0, 'Price distribution over the year w.r.t to engType')"
      ]
     },
     "execution_count": 52,
     "metadata": {},
     "output_type": "execute_result"
    },
    {
     "data": {
      "image/png": "[encoded data removed]",
      "text/plain": [
       "<Figure size 423.75x360 with 1 Axes>"
      ]
     },
     "metadata": {
      "needs_background": "light"
     },
     "output_type": "display_data"
    }
   ],
   "source": [
    "sns.lmplot('year','price', data_car, fit_reg=False, hue='engType')\n",
    "plt.title(\"Price distribution over the year w.r.t to engType\")"
   ]
  },
  {
   "cell_type": "markdown",
   "metadata": {},
   "source": [
    " - **The above multivariate graphs shows the Price distribution over the years w.r.t engType. As the years increase, this shows there is significant increase in prices of cars models having engine tyep = \"Petrol\" as compared to \"Gas\" and \"Diesel\".**"
   ]
  },
  {
   "cell_type": "markdown",
   "metadata": {},
   "source": [
    "# L. Most preferred body type used between 1953-2016 when compared to vehicles registred"
   ]
  },
  {
   "cell_type": "code",
   "execution_count": 53,
   "metadata": {},
   "outputs": [
    {
     "data": {
      "text/plain": [
       "1953"
      ]
     },
     "execution_count": 53,
     "metadata": {},
     "output_type": "execute_result"
    }
   ],
   "source": [
    "data_car['year'].min()"
   ]
  },
  {
   "cell_type": "code",
   "execution_count": 54,
   "metadata": {},
   "outputs": [
    {
     "data": {
      "text/plain": [
       "2016"
      ]
     },
     "execution_count": 54,
     "metadata": {},
     "output_type": "execute_result"
    }
   ],
   "source": [
    "data_car['year'].max()"
   ]
  },
  {
   "cell_type": "code",
   "execution_count": 55,
   "metadata": {},
   "outputs": [
    {
     "data": {
      "text/plain": [
       "Text(0.5, 1.0, 'Most preferred body type used in 1953-2016')"
      ]
     },
     "execution_count": 55,
     "metadata": {},
     "output_type": "execute_result"
    },
    {
     "data": {
      "image/png": "[encoded data removed]",
      "text/plain": [
       "<Figure size 720x360 with 1 Axes>"
      ]
     },
     "metadata": {
      "needs_background": "light"
     },
     "output_type": "display_data"
    }
   ],
   "source": [
    "plt.figure(figsize=(10,5))\n",
    "sns.countplot(y='body', data=data_car, orient='h', hue='registration')\n",
    "plt.title(\"Most preferred body type used in 1953-2016\")"
   ]
  },
  {
   "cell_type": "markdown",
   "metadata": {},
   "source": [
    " - <b>This shows the car brands having \"sedan\" type of body having maximum registration/sale over the years. This shows People prefers sedan type of body mostly and hence this information can be use for achieving max sale and to figure out production of units.</b>"
   ]
  },
  {
   "cell_type": "markdown",
   "metadata": {},
   "source": [
    "# M. % of Brand wise car sale in higher price segment"
   ]
  },
  {
   "cell_type": "code",
   "execution_count": 56,
   "metadata": {},
   "outputs": [
    {
     "data": {
      "image/png": "[encoded data removed]",
      "text/plain": [
       "<Figure size 720x360 with 1 Axes>"
      ]
     },
     "metadata": {
      "needs_background": "light"
     },
     "output_type": "display_data"
    }
   ],
   "source": [
    "plt.figure(figsize=(10,5))\n",
    "carprc = data_car.loc[data_car['price'] >= 100000]\n",
    "(carprc['car'].value_counts() / len(carprc)*100).plot.bar()                # Bar chart of car 'body in terms of %'\n",
    "plt.title(\"Brand wise Sales Distribution in Higher Price Segment\")\n",
    "plt.ylabel('% of vehicles')\n",
    "plt.xlabel('Brand type');\n"
   ]
  },
  {
   "cell_type": "markdown",
   "metadata": {},
   "source": [
    "# N. Which engine volume (engV) cars sold the most "
   ]
  },
  {
   "cell_type": "code",
   "execution_count": 57,
   "metadata": {},
   "outputs": [
    {
     "data": {
      "image/png": "[encoded data removed]",
      "text/plain": [
       "<Figure size 432x288 with 1 Axes>"
      ]
     },
     "metadata": {
      "needs_background": "light"
     },
     "output_type": "display_data"
    }
   ],
   "source": [
    "# grouping of engV  \n",
    "(pd.cut(data_car['engV'],[0,0.51,1.51,2.51,3.51,100], \n",
    "        labels = ['<=0.5','0.51-1.50','1.51-2.50','2.51-3.50','>3.51']).value_counts() / len(data_car)*100).plot.bar()    \n",
    "plt.title(\"Engine Volume (engV) Bar Diagram\")\n",
    "plt.ylabel('% of vehicles')\n",
    "plt.xlabel('Engine Volume Group');"
   ]
  },
  {
   "cell_type": "markdown",
   "metadata": {},
   "source": [
    "**By this chart we can say that below are the top three categories of Engine Volume (engV) cars sold.**\n",
    "\n",
    " - Ist Category : > 1.5 & <= 2.5 (In this category approx 55% of cars are available)\n",
    " - IInd Category : > 0.5 & <= 1.5 (In this category approx 19% of cars are available)\n",
    " - IIIrd Category : > 2.5 & <= 3.5 (In this category approx 18% of cars are available)\n",
    "\n",
    "Out of total cars sold, approx 92% cars fall in range of engine volume more than 1.5 CC to 3.5 CC"
   ]
  },
  {
   "cell_type": "markdown",
   "metadata": {},
   "source": [
    "# O. What are the factors affecting the price of cars?"
   ]
  },
  {
   "cell_type": "code",
   "execution_count": 58,
   "metadata": {},
   "outputs": [
    {
     "data": {
      "text/plain": [
       "Text(0.5, 1.0, 'mileage - price line Plot')"
      ]
     },
     "execution_count": 58,
     "metadata": {},
     "output_type": "execute_result"
    },
    {
     "data": {
      "image/png": "[encoded data removed]",
      "text/plain": [
       "<Figure size 432x288 with 1 Axes>"
      ]
     },
     "metadata": {
      "needs_background": "light"
     },
     "output_type": "display_data"
    }
   ],
   "source": [
    "sns.lineplot(x='mileage',y='price',data=data_car, hue='engType')\n",
    "plt.title(\"mileage - price line Plot\")"
   ]
  },
  {
   "cell_type": "code",
   "execution_count": 59,
   "metadata": {},
   "outputs": [
    {
     "data": {
      "text/plain": [
       "Text(0.5, 1.0, 'year - price lineplot (1950 - 2010)')"
      ]
     },
     "execution_count": 59,
     "metadata": {},
     "output_type": "execute_result"
    },
    {
     "data": {
      "image/png": "[encoded data removed]",
      "text/plain": [
       "<Figure size 432x288 with 1 Axes>"
      ]
     },
     "metadata": {
      "needs_background": "light"
     },
     "output_type": "display_data"
    }
   ],
   "source": [
    "sns.lineplot(data=data_car, y='price', x='year', hue='drive')\n",
    "plt.title(\"year - price lineplot (1950 - 2010)\")"
   ]
  },
  {
   "cell_type": "code",
   "execution_count": 60,
   "metadata": {},
   "outputs": [
    {
     "data": {
      "text/plain": [
       "Text(0.5, 1.0, 'year - price lineplot (2010 - 2016)')"
      ]
     },
     "execution_count": 60,
     "metadata": {},
     "output_type": "execute_result"
    },
    {
     "data": {
      "image/png": "[encoded data removed]",
      "text/plain": [
       "<Figure size 432x288 with 1 Axes>"
      ]
     },
     "metadata": {
      "needs_background": "light"
     },
     "output_type": "display_data"
    }
   ],
   "source": [
    "sns.lineplot(data=data_car[data_car.year >= 2010], y='price', x='year', hue='drive')\n",
    "plt.title(\"year - price lineplot (2010 - 2016)\")"
   ]
  },
  {
   "cell_type": "markdown",
   "metadata": {},
   "source": [
    " - **The above graph shows line plot/relation between mileage and price. We can't comment on the price increase/decrease over the mileage but this shows, price changing accordingly based on mileage value. So price is varying based on mileage too and this should be consider as a factor for the calculation.**"
   ]
  },
  {
   "cell_type": "markdown",
   "metadata": {},
   "source": [
    "# P.  Price v/s Production year"
   ]
  },
  {
   "cell_type": "code",
   "execution_count": 61,
   "metadata": {},
   "outputs": [
    {
     "data": {
      "image/png": "[encoded data removed]",
      "text/plain": [
       "<Figure size 432x288 with 1 Axes>"
      ]
     },
     "metadata": {
      "needs_background": "light"
     },
     "output_type": "display_data"
    }
   ],
   "source": [
    "data_car[data_car['price'] <= 300000].plot.scatter(x='year',y='price')\n",
    "plt.title(\"Price v/s Production Year\")\n",
    "plt.ylabel('Price')\n",
    "plt.xlabel('Production Year');"
   ]
  },
  {
   "cell_type": "markdown",
   "metadata": {},
   "source": [
    "**By this chart we can say that**\n",
    "\n",
    " - Majority of the cars with production year 2008 or later sold in price 50000 or lower.\n",
    " - All the cars with production year 2010 or later sold in price more than 50000.\n",
    " - All the cars with production year before 2010 sold in price 50000 or lower."
   ]
  },
  {
   "cell_type": "markdown",
   "metadata": {},
   "source": [
    "# Q. How does engine volume (engV) relate to mileage of the car?"
   ]
  },
  {
   "cell_type": "code",
   "execution_count": 62,
   "metadata": {},
   "outputs": [
    {
     "data": {
      "image/png": "[encoded data removed]",
      "text/plain": [
       "<Figure size 432x288 with 2 Axes>"
      ]
     },
     "metadata": {
      "needs_background": "light"
     },
     "output_type": "display_data"
    }
   ],
   "source": [
    "data_car[data_car['engV'] < 3.51].plot.hexbin(x='engV', y='mileage', sharex=False, gridsize=12)\n",
    "plt.title(\"Engine Volume  v/s Mileage\")\n",
    "plt.ylabel('Mileage')\n",
    "plt.xlabel('Engine Volume');"
   ]
  },
  {
   "cell_type": "markdown",
   "metadata": {},
   "source": [
    "**By this chart we can say that most of the cars sold with engine volume (engV) as 1.5 CC and mileage as approx 200.**"
   ]
  },
  {
   "cell_type": "code",
   "execution_count": 63,
   "metadata": {},
   "outputs": [
    {
     "data": {
      "text/plain": [
       "<seaborn.axisgrid.PairGrid at 0x200461b8310>"
      ]
     },
     "execution_count": 63,
     "metadata": {},
     "output_type": "execute_result"
    },
    {
     "data": {
      "image/png": "[encoded data removed]",
      "text/plain": [
       "<Figure size 720x720 with 20 Axes>"
      ]
     },
     "metadata": {
      "needs_background": "light"
     },
     "output_type": "display_data"
    }
   ],
   "source": [
    "sns.pairplot(data_car)"
   ]
  },
  {
   "cell_type": "markdown",
   "metadata": {},
   "source": [
    "**This pairplot gives the observations which already have been referred from other graphs above : those are Price varying based on Year and Mileage As Year increases there is increase in Petrol engine type vehicles's prices which also depending on mileage too**"
   ]
  },
  {
   "cell_type": "markdown",
   "metadata": {},
   "source": [
    "# Does the engType have any impact on price of the car"
   ]
  },
  {
   "cell_type": "code",
   "execution_count": 66,
   "metadata": {},
   "outputs": [
    {
     "data": {
      "image/png": "[encoded data removed]",
      "text/plain": [
       "<Figure size 423.75x360 with 1 Axes>"
      ]
     },
     "metadata": {
      "needs_background": "light"
     },
     "output_type": "display_data"
    }
   ],
   "source": [
    "sns.factorplot(y='price_group', data=data_car, hue='engType', kind= 'count', order=['<20K','20-39K','40-59K','60-79K','80-99K','>100K'])   \n",
    "plt.title('Factorplot for Price Group and Engine Type')\n",
    "plt.ylabel('Price Group')\n",
    "plt.xlabel('Count of vehicles');"
   ]
  },
  {
   "cell_type": "markdown",
   "metadata": {},
   "source": [
    "<b>By this chart we can say that </b>\n",
    "\n",
    " - The most cars sold in price range of 200 to 19999 and majority of these are in Petrol engine type.\n",
    " - The majority is Diesel engine type in Cars sold at a price 20000 or above.."
   ]
  },
  {
   "cell_type": "markdown",
   "metadata": {},
   "source": [
    "# R. Correlation between various features of car data"
   ]
  },
  {
   "cell_type": "code",
   "execution_count": 64,
   "metadata": {},
   "outputs": [
    {
     "data": {
      "image/png": "[encoded data removed]",
      "text/plain": [
       "<Figure size 360x360 with 2 Axes>"
      ]
     },
     "metadata": {
      "needs_background": "light"
     },
     "output_type": "display_data"
    }
   ],
   "source": [
    "car_corr = data_car.corr()\n",
    "car_corr\n",
    "plt.figure(figsize=(5,5))\n",
    "sns.heatmap(car_corr,vmax=1,square=True,annot=True, cmap='BuGn')\n",
    "plt.title(\"Correlation between various features of car\")\n",
    "plt.show()"
   ]
  },
  {
   "cell_type": "markdown",
   "metadata": {},
   "source": [
    "**By this heatmap we can say that :**\n",
    "\n",
    " - Price and production year variables have strong positive correlation, i.e. latest production year cars have high price and older production year cars have lower price.\n",
    "\n",
    " - Price and engine volume (engV) have mild positive correlation.\n",
    "\n",
    " - Engine volume (engV) and mileage also have some mild positive correlation, generally engine volume and mileage do not have positive correlation, but in our data most of the cars have engine volume in between 1.5 CC to 2.5 CC, due to that mileage and engine volume have mild positive correlation.\n",
    " \n",
    " - Production year and mileage variables have strong negative correlation, i.e. latest production year cars have high mileage and older production year cars have low mileage.\n",
    " \n",
    " - Price and mileage have negative correlation, i.e. lower price cars have higher mileage and higher price cars have lower mileage.\n",
    " - Production year and engine volume (engV) also have some negative correlation."
   ]
  },
  {
   "cell_type": "markdown",
   "metadata": {},
   "source": [
    "# 9 . Summarization"
   ]
  },
  {
   "cell_type": "markdown",
   "metadata": {},
   "source": [
    "**1. Which brand of cars is most selling brand ?**\n",
    "\n",
    " - From above analysis we can conclude that ,Volkswagen and Mercedes-Benz are top most brands on sale and hence these would be preferred choices for high profile people.\n",
    "\n",
    "**2. which type of cars are more selling?**\n",
    "\n",
    " - \"sedan\" type of body having maximum registration/sale over the years. This shows People prefers sedan type of body mostly and hence this information can be use for achieving max sale and to figure out production of units.\n",
    "\n",
    "**3. What are the factors affecting the price of cars?**\n",
    "\n",
    " - Price changing accordingly based on mileage value, So price is varying based on mileage too and this should be consider as a factor for the calculation"
   ]
  },
  {
   "cell_type": "markdown",
   "metadata": {},
   "source": [
    "# Conclusion"
   ]
  },
  {
   "cell_type": "markdown",
   "metadata": {},
   "source": [
    "<ul>\n",
    "<li>In this dataset, we have a total of 9462 observations after removing duplicate records.</li>\n",
    "We observe that out of total cars sold, the majority of the cars sold by Volkswagen, Mercedes-Benz, and BMW brand.</li>\n",
    "<li>Sedan, Crossover, and Hetch body types cars are the highest sold cars.</li>\n",
    "<li>Front-drive type segment cars are the highest sold cars because most of the cars of this segment fall in the lower price range.</li>\n",
    "<li>Front-wheel drive cars are the top most cars in all body types except in Crossover body types. In the Crossover body type, Full wheel drive cars are leading.</li>\n",
    "<li>80% of total cars sold in the price range of 200 to 20000 with body type as Sedan, drive type as Front and engine type as Petrol, because the middle-class families preferred low price cars with Sedan body and Petrol engine type.</li>\n",
    "<li>Mercedes-Benz is the leading brand in higher price segment cars.</li>\n",
    "<li>From the recent past the car sales are stagnated on Gas type</li>\n",
    "<li>All body segments of cars have more average price for Full drive type cars compare to other drive type cars.</li>\n",
    "<li>All engine types of cars have more average price for Full drive type cars compare to other drive type cars.</li>\n",
    "<li>Approx. 55% of total cars sold have engine volume in the range of 1.5 CC to 2.5 CC.</li>\n",
    "<li>Most of the cars sold in the 2.0 CC engine volume segment followed by 1.5 CC, there are very few cars sold below 1.0 CC and above 4.0 CC</li>\n",
    "<li>We have also observed that lower price segment car has higher mileage and higher price segment car has lower mileage.</li>\n",
    "<li>The production year 2008 and 2012 cars are the highest sold cars.</li>\n",
    "<li>Price has a positive correlation with engine volume and production year and a negative correlation with mileage.</li>\n",
    "<li>Production year has a negative correlation with mileage and engine volume.</li>\n",
    "</ul>"
   ]
  },
  {
   "cell_type": "markdown",
   "metadata": {},
   "source": [
    "# Actionable Insights"
   ]
  },
  {
   "cell_type": "markdown",
   "metadata": {},
   "source": [
    " - Economy cars are ideally most selling. And most recent economy car are gas engines which are not preferred by customers. So procure more Economy price range cars which is of Petrol or Diesel engine types\n",
    "\n",
    " - Procure more demaded cars also like Mercedes-Benz, BMW, Volkswagen, Toyota, Nissan, Ford, Audi..for VIP customers etc\n",
    "\n",
    " - Majority of the higher price range cars sold with body type as Crossover this should be taken into consideration"
   ]
  }
 ],
 "metadata": {
  "kernelspec": {
   "display_name": "Python 3",
   "language": "python",
   "name": "python3"
  },
  "language_info": {
   "codemirror_mode": {
    "name": "ipython",
    "version": 3
   },
   "file_extension": ".py",
   "mimetype": "text/x-python",
   "name": "python",
   "nbconvert_exporter": "python",
   "pygments_lexer": "ipython3",
   "version": "3.8.3"
  }
 },
 "nbformat": 4,
 "nbformat_minor": 4
}
